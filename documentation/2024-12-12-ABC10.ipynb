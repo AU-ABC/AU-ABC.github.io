{
 "cells": [
  {
   "cell_type": "markdown",
   "id": "3585ed8a",
   "metadata": {},
   "source": [
    "---\n",
    "title: \"ABC.10: Detailed bulkRNA data alignment and quality control\"\n",
    "author: \"Marie Sønderstrup\"\n",
    "image: ../img/news/heatmap.png\n",
    "date: 2024-12-12\n",
    "categories: [bulkRNA, alignment, QC, STAR]\n",
    "description: \"Try to align a bulk dataset and perform quality control!\"\n",
    "eval: false\n",
    "---"
   ]
  },
  {
   "cell_type": "markdown",
   "id": "20907326",
   "metadata": {},
   "source": [
    "# Slides\n",
    "\n",
    "Detailed introduction from Marie to the tutorial topic\n",
    "\n",
    "<p align=\"center\">\n",
    "\n",
    "<a href=\"https://abc.au.dk/documentation/slides/20241212-ABC10.zip\" style=\"background-color: #4266A1; color: #FFFFFF; padding: 30px 20px; text-decoration: none; border-radius: 5px;\"> Download Slides </a>\n",
    "\n",
    "</p>\n",
    "\n",
    "# Tutorial\n",
    "\n",
    "In construction, we had some problem with it!"
   ]
  },
  {
   "cell_type": "markdown",
   "id": "c7eecf6e",
   "metadata": {},
   "source": [
    ":::{.callout-note}\n",
    "sdjkfbasjkasjk h\n",
    ":::"
   ]
  }
 ],
 "metadata": {
  "kernelspec": {
   "display_name": "R",
   "language": "R",
   "name": "ir"
  },
  "language_info": {
   "codemirror_mode": "r",
   "file_extension": ".r",
   "mimetype": "text/x-r-source",
   "name": "R",
   "pygments_lexer": "r",
   "version": "4.4.2"
  }
 },
 "nbformat": 4,
 "nbformat_minor": 5
}
