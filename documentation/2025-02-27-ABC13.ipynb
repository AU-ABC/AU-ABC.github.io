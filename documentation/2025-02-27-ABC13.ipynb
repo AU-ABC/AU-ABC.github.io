{
 "cells": [
  {
   "cell_type": "markdown",
   "id": "e738dd58-50c9-4de1-a424-e9a177f85a9b",
   "metadata": {},
   "source": [
    "---\n",
    "title: \"ABC.13: BulkRNA deconvolution\"\n",
    "author: \"Samuele Soraggi\"\n",
    "image: ../img/news/clusterProfiler.png\n",
    "date: 2025-02-27\n",
    "categories: [Deconvolution, omnideconv, scRNA-seq, bulkRNA-seq]\n",
    "description: \"BulkRNA deconvolution with scRNA-seq data\"\n",
    "eval: false\n",
    "---\n",
    "\n",
    "# Slides\n",
    "\n",
    "Today's slides with topic presentation for BulkRNA deconvolution with scRNA-seq data. \n",
    "\n",
    "&nbsp;\n",
    "\n",
    "<p align=\"center\">\n",
    "\n",
    "<a href=\"https://abc.au.dk/documentation/slides/20250227-ABC13.zip\" style=\"background-color: #4266A1; color: #FFFFFF; padding: 30px 20px; text-decoration: none; border-radius: 5px;\"> Download Slides </a>\n",
    "\n",
    "</p>\n",
    "\n",
    "&nbsp;\n",
    "\n",
    "# Tutorial TBA"
   ]
  },
  {
   "cell_type": "markdown",
   "id": "93c7c3b3",
   "metadata": {},
   "source": []
  }
 ],
 "metadata": {
  "kernelspec": {
   "display_name": "ABC12-clusterprofiler",
   "language": "R",
   "name": "abc12"
  },
  "language_info": {
   "codemirror_mode": "r",
   "file_extension": ".r",
   "mimetype": "text/x-r-source",
   "name": "R",
   "pygments_lexer": "r",
   "version": "4.4.2"
  }
 },
 "nbformat": 4,
 "nbformat_minor": 5
}
