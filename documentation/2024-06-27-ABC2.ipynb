{
 "cells": [
  {
   "cell_type": "markdown",
   "metadata": {},
   "source": [
    "---\n",
    "title: \"ABC.2: RStudio projects and Anaconda+Python\"\n",
    "author: \"Marie Sønderstrup-Jensen, Samuele Soraggi\"\n",
    "image: ./2024-06-27-ABC2/Anaconda.png\n",
    "date: 2024-06-27\n",
    "categories: [R, RStudio, Anaconda, Python, environments]\n",
    "description: \"Things worth remembering from the ABC.2\"\n",
    "eval: true\n",
    "---\n",
    "\n",
    "# Slides\n",
    "\n",
    "Conferences in the second half of 2024, introduction to Integrated Development Environments and Virtual Environments.\n",
    "\n",
    "&nbsp;\n",
    "\n",
    " <p align=\"center\">\n",
    "  <a href=\"https://abc.au.dk/documentation/slides/20240627-ABC.2.zip\" style=\"background-color: #4266A1; color: #FFFFFF; padding: 30px 20px; text-decoration: none; border-radius: 5px;\">\n",
    "    Download Slides\n",
    "  </a>\n",
    "</p>\n",
    "\n",
    "&nbsp;\n",
    "\n",
    "The following tutorials show how to create a package environment and do some basic analysis in both R and python.\n",
    "\n",
    "# R Tutorial\n",
    "\n",
    "In this tutorial we show how to create a project in RStudio and to manage all the necessary packages within a package environment created with `renv`. Using a package environment ensures you always use the same packages at specific versions inside the project, making the analysis reproducible.\n",
    "\n",
    "Using project management in RStudio offers several advantages in terms of organisation and collaboration (to mention a few). Each project **has its own working directory, Rstudio settings for the workspace, command history, and files with code**. [Read more here](https://support.posit.co/hc/en-us/articles/200526207-Using-RStudio-Projects)\n",
    "\n",
    "Another advantage is that a project facilitates collaboration by maintaining a consistent environment across different team members (and remember that it's good practice to use the same version of R throughout a project, check your version using the `R.version()`-function)\n",
    "\n",
    "## Project creation and management in RStudio\n",
    "\n",
    "**1.** Open RStudioo, go to the menu and select `File` --> `New Project...`\n",
    "\n",
    "**2.** Choose `New Directory` --> `New Project` (similarly you can create a project in an existing folder). Note that there is a third version including version control: here you can also control the history of all changes in the project files using version control tools (such as Git), but we are not talking about this for now.\n",
    "\n",
    "![](./2024-06-27-ABC2/newProject.png){width=400}\n",
    "\n",
    "**3.** Name your project and select the directory where you want to save it. Click on *use renv for this project*. Finally click `Create Project`\n",
    "\n",
    "**4.** The project is now established. You can see some files are automatically created into the project directory.\n",
    "\n",
    ":::{.callout-note}\n",
    "\n",
    "When you want to open your project the next time, you can either:\n",
    "- Open the project by double-clicking on the file in Windows Explorer/OSX Finder (e.g. MyProject.Rproj)\n",
    "- Open RStudio, go to the menu and select `File` --> `Open Project` and browser to find and select the project that you want to open\n",
    "- Open RStudio, go to the menu, select `File` --> `Recent Projects`, and select the project from the list of most recently opened projects\n",
    "\n",
    "Some of the things making it nice to work in projects in RStudio are that when a project is opened:\n",
    "\n",
    "- A new R session (process) is started\n",
    "- The .RData file (saved data) in the project's main directory is loaded\n",
    "- The .Rhistory file (command history) in the project's main directory is loaded\n",
    "- The current working directory is set to the project directory\n",
    "- Packages in the environment are loaded\n",
    "- And other settings are restored to where they were the last time the project was closed\n",
    "\n",
    ":::\n",
    "\n",
    "### Project structure\n",
    "\n",
    "**A clean and organised project structure is super important**. To ensure this, a good practice is to create subfolders like `Data`, `Scripts`, `Output`, and `Docs` within your project directory. You can do all this in the RStudio browser (bottom-right corner).\n",
    "\n",
    "![](./2024-06-27-ABC2/projStruct.png){width=400}\n",
    "\n",
    "## Using the `renv` package to manage a project's environment\n",
    "\n",
    "The `renv` package allows you to create isolated and reproducible environments for your R projects, ensuring that the exact package versions and dependencies are used, ultimately facilitating reproducibility and collaboration. For an extended description, [read more here](https://rstudio.github.io/renv/articles/renv.html). Dependencies are packages on which others rely on to work.\n",
    "\n",
    "Key features:\n",
    "\n",
    "- Each project can have its own set of R packages and versions\n",
    "- Ensures that the same package versions are used each time the project is run\n",
    "- Manages dependencies by automatically tracking the packages used in your project and their versions\n",
    "- Ensures the same environment setup when sharing projects with collaborators\n",
    "\n",
    "### tracking installed packages with renv\n",
    "\n",
    "You do not need much to track all your packages. Simply create your files with R code and save them inside your project folder. While you code, you will necessarily install some packages which you need to create your program.\n",
    "\n",
    "When you are done, run in the Rstudio console the program `renv::snapshot()` - this will update the file `renv.lock` with a list of all installed packages and dependencies (open the file to see how it looks like). All the packages are installed inside the `renv` folder and will be loaded from there.\n",
    "\n",
    "Note that `renv` will track only packages that are used in your files with code - other packages which are installed but not used will not be tracked. Pretty smart!\n",
    "\n",
    "**1.** Now, try to install `dplyr` and `ggplot2` using\n",
    "\n",
    "```{.r}\n",
    "install.packages(c(\"dplyr\", \"ggplot2\"))\n",
    "```\n",
    "\n",
    "in the RStudio console.\n",
    "\n",
    "**2.** Snapshot the environment by running \n",
    "\n",
    "```{.r}\n",
    "renv::snapshot()\n",
    "```\n",
    "\n",
    "Have a look at the file `renv.lock` to see how it looks like. It should not show any package beyond `renv`: the file is updated only with packages used in the scripts you have in the project folder, so we will have to run the snapshot at the end of the tutorial where we use the packages!\n",
    "\n",
    ":::{.callout-tip title=\"Sharing projects\"}\n",
    "\n",
    "When sharing your project, include the `renv.lock` and `renv` directory in the project folder. You can also include just the file `renv.lock`. Other users can use `renv::activate()` to activate the environment, and also `renv::restore()` if they need to install the packages (in case the folder `renv` is not provided).\n",
    "\n",
    "Note that if you provide the folder `renv`, this must be used in the same operating system. It might not be possible to use the environment folder create, for example, in Linux, on a windows or mac computer.\n",
    "\n",
    ":::\n",
    "\n",
    "## Kickstart dplyr analysis\n",
    "\n",
    "The `dplyr` package is part of the [tidyverse](https://www.tidyverse.org/), a set of packages all based on consistent and intuitive syntax/grammar for data manipulation, where the fundamental data structure is the data frame. `dplyr` is one of the most popular packages for data manipulation.\n",
    "\n",
    "We already install the package in our environment and it is ready to use. You can use the following commands in the Console, or create an R script or an R markdown document.\n",
    "\n",
    "Create a small dataset with gene expressions and some patient meta data:\n"
   ]
  },
  {
   "cell_type": "code",
   "execution_count": 2,
   "metadata": {},
   "outputs": [
    {
     "data": {
      "text/html": [
       "<table class=\"dataframe\">\n",
       "<caption>A data.frame: 5 × 7</caption>\n",
       "<thead>\n",
       "\t<tr><th scope=col>SampleID</th><th scope=col>Gene1</th><th scope=col>Gene2</th><th scope=col>Gene3</th><th scope=col>Age</th><th scope=col>Treatment</th><th scope=col>Response</th></tr>\n",
       "\t<tr><th scope=col>&lt;chr&gt;</th><th scope=col>&lt;dbl&gt;</th><th scope=col>&lt;dbl&gt;</th><th scope=col>&lt;dbl&gt;</th><th scope=col>&lt;dbl&gt;</th><th scope=col>&lt;chr&gt;</th><th scope=col>&lt;chr&gt;</th></tr>\n",
       "</thead>\n",
       "<tbody>\n",
       "\t<tr><td>S1</td><td>5.2</td><td>3.8</td><td>7.1</td><td>45</td><td>A</td><td>Responder    </td></tr>\n",
       "\t<tr><td>S2</td><td>6.3</td><td>2.7</td><td>8.5</td><td>52</td><td>B</td><td>Non-Responder</td></tr>\n",
       "\t<tr><td>S3</td><td>4.9</td><td>3.5</td><td>6.8</td><td>37</td><td>A</td><td>Responder    </td></tr>\n",
       "\t<tr><td>S4</td><td>7.2</td><td>4.1</td><td>9.2</td><td>50</td><td>B</td><td>Non-Responder</td></tr>\n",
       "\t<tr><td>S5</td><td>5.8</td><td>3.9</td><td>7.3</td><td>43</td><td>A</td><td>Responder    </td></tr>\n",
       "</tbody>\n",
       "</table>\n"
      ],
      "text/latex": [
       "A data.frame: 5 × 7\n",
       "\\begin{tabular}{lllllll}\n",
       " SampleID & Gene1 & Gene2 & Gene3 & Age & Treatment & Response\\\\\n",
       " <chr> & <dbl> & <dbl> & <dbl> & <dbl> & <chr> & <chr>\\\\\n",
       "\\hline\n",
       "\t S1 & 5.2 & 3.8 & 7.1 & 45 & A & Responder    \\\\\n",
       "\t S2 & 6.3 & 2.7 & 8.5 & 52 & B & Non-Responder\\\\\n",
       "\t S3 & 4.9 & 3.5 & 6.8 & 37 & A & Responder    \\\\\n",
       "\t S4 & 7.2 & 4.1 & 9.2 & 50 & B & Non-Responder\\\\\n",
       "\t S5 & 5.8 & 3.9 & 7.3 & 43 & A & Responder    \\\\\n",
       "\\end{tabular}\n"
      ],
      "text/markdown": [
       "\n",
       "A data.frame: 5 × 7\n",
       "\n",
       "| SampleID &lt;chr&gt; | Gene1 &lt;dbl&gt; | Gene2 &lt;dbl&gt; | Gene3 &lt;dbl&gt; | Age &lt;dbl&gt; | Treatment &lt;chr&gt; | Response &lt;chr&gt; |\n",
       "|---|---|---|---|---|---|---|\n",
       "| S1 | 5.2 | 3.8 | 7.1 | 45 | A | Responder     |\n",
       "| S2 | 6.3 | 2.7 | 8.5 | 52 | B | Non-Responder |\n",
       "| S3 | 4.9 | 3.5 | 6.8 | 37 | A | Responder     |\n",
       "| S4 | 7.2 | 4.1 | 9.2 | 50 | B | Non-Responder |\n",
       "| S5 | 5.8 | 3.9 | 7.3 | 43 | A | Responder     |\n",
       "\n"
      ],
      "text/plain": [
       "  SampleID Gene1 Gene2 Gene3 Age Treatment Response     \n",
       "1 S1       5.2   3.8   7.1   45  A         Responder    \n",
       "2 S2       6.3   2.7   8.5   52  B         Non-Responder\n",
       "3 S3       4.9   3.5   6.8   37  A         Responder    \n",
       "4 S4       7.2   4.1   9.2   50  B         Non-Responder\n",
       "5 S5       5.8   3.9   7.3   43  A         Responder    "
      ]
     },
     "metadata": {},
     "output_type": "display_data"
    }
   ],
   "source": [
    "# Load dplyr\n",
    "library(dplyr)\n",
    "\n",
    "# Create the dataframe\n",
    "data <- data.frame(\n",
    "  SampleID = c(\"S1\", \"S2\", \"S3\", \"S4\", \"S5\"),\n",
    "  Gene1 = c(5.2, 6.3, 4.9, 7.2, 5.8),\n",
    "  Gene2 = c(3.8, 2.7, 3.5, 4.1, 3.9),\n",
    "  Gene3 = c(7.1, 8.5, 6.8, 9.2, 7.3),\n",
    "  Age = c(45, 52, 37, 50, 43),\n",
    "  Treatment = c(\"A\", \"B\", \"A\", \"B\", \"A\"),\n",
    "  Response = c(\"Responder\", \"Non-Responder\", \"Responder\", \"Non-Responder\", \"Responder\")\n",
    ")\n",
    "\n",
    "\n",
    "data"
   ]
  },
  {
   "cell_type": "markdown",
   "metadata": {},
   "source": [
    "You can apply many commands very intuitively with `dplyr`. For example, to select only the gene expressions:"
   ]
  },
  {
   "cell_type": "code",
   "execution_count": 4,
   "metadata": {},
   "outputs": [
    {
     "data": {
      "text/html": [
       "<table class=\"dataframe\">\n",
       "<caption>A data.frame: 5 × 3</caption>\n",
       "<thead>\n",
       "\t<tr><th scope=col>Gene1</th><th scope=col>Gene2</th><th scope=col>Gene3</th></tr>\n",
       "\t<tr><th scope=col>&lt;dbl&gt;</th><th scope=col>&lt;dbl&gt;</th><th scope=col>&lt;dbl&gt;</th></tr>\n",
       "</thead>\n",
       "<tbody>\n",
       "\t<tr><td>5.2</td><td>3.8</td><td>7.1</td></tr>\n",
       "\t<tr><td>6.3</td><td>2.7</td><td>8.5</td></tr>\n",
       "\t<tr><td>4.9</td><td>3.5</td><td>6.8</td></tr>\n",
       "\t<tr><td>7.2</td><td>4.1</td><td>9.2</td></tr>\n",
       "\t<tr><td>5.8</td><td>3.9</td><td>7.3</td></tr>\n",
       "</tbody>\n",
       "</table>\n"
      ],
      "text/latex": [
       "A data.frame: 5 × 3\n",
       "\\begin{tabular}{lll}\n",
       " Gene1 & Gene2 & Gene3\\\\\n",
       " <dbl> & <dbl> & <dbl>\\\\\n",
       "\\hline\n",
       "\t 5.2 & 3.8 & 7.1\\\\\n",
       "\t 6.3 & 2.7 & 8.5\\\\\n",
       "\t 4.9 & 3.5 & 6.8\\\\\n",
       "\t 7.2 & 4.1 & 9.2\\\\\n",
       "\t 5.8 & 3.9 & 7.3\\\\\n",
       "\\end{tabular}\n"
      ],
      "text/markdown": [
       "\n",
       "A data.frame: 5 × 3\n",
       "\n",
       "| Gene1 &lt;dbl&gt; | Gene2 &lt;dbl&gt; | Gene3 &lt;dbl&gt; |\n",
       "|---|---|---|\n",
       "| 5.2 | 3.8 | 7.1 |\n",
       "| 6.3 | 2.7 | 8.5 |\n",
       "| 4.9 | 3.5 | 6.8 |\n",
       "| 7.2 | 4.1 | 9.2 |\n",
       "| 5.8 | 3.9 | 7.3 |\n",
       "\n"
      ],
      "text/plain": [
       "  Gene1 Gene2 Gene3\n",
       "1 5.2   3.8   7.1  \n",
       "2 6.3   2.7   8.5  \n",
       "3 4.9   3.5   6.8  \n",
       "4 7.2   4.1   9.2  \n",
       "5 5.8   3.9   7.3  "
      ]
     },
     "metadata": {},
     "output_type": "display_data"
    }
   ],
   "source": [
    "selected_data <- select(data, Gene1, Gene2, Gene3)\n",
    "\n",
    "selected_data"
   ]
  },
  {
   "cell_type": "markdown",
   "metadata": {},
   "source": [
    "You can establish any filter based on the columns or combination of them. Filtering only on age of at least 50yo and rate of Gene1 and Gene2 larger than 2 is as below "
   ]
  },
  {
   "cell_type": "code",
   "execution_count": 6,
   "metadata": {},
   "outputs": [
    {
     "data": {
      "text/html": [
       "<table class=\"dataframe\">\n",
       "<caption>A data.frame: 1 × 7</caption>\n",
       "<thead>\n",
       "\t<tr><th scope=col>SampleID</th><th scope=col>Gene1</th><th scope=col>Gene2</th><th scope=col>Gene3</th><th scope=col>Age</th><th scope=col>Treatment</th><th scope=col>Response</th></tr>\n",
       "\t<tr><th scope=col>&lt;chr&gt;</th><th scope=col>&lt;dbl&gt;</th><th scope=col>&lt;dbl&gt;</th><th scope=col>&lt;dbl&gt;</th><th scope=col>&lt;dbl&gt;</th><th scope=col>&lt;chr&gt;</th><th scope=col>&lt;chr&gt;</th></tr>\n",
       "</thead>\n",
       "<tbody>\n",
       "\t<tr><td>S2</td><td>6.3</td><td>2.7</td><td>8.5</td><td>52</td><td>B</td><td>Non-Responder</td></tr>\n",
       "</tbody>\n",
       "</table>\n"
      ],
      "text/latex": [
       "A data.frame: 1 × 7\n",
       "\\begin{tabular}{lllllll}\n",
       " SampleID & Gene1 & Gene2 & Gene3 & Age & Treatment & Response\\\\\n",
       " <chr> & <dbl> & <dbl> & <dbl> & <dbl> & <chr> & <chr>\\\\\n",
       "\\hline\n",
       "\t S2 & 6.3 & 2.7 & 8.5 & 52 & B & Non-Responder\\\\\n",
       "\\end{tabular}\n"
      ],
      "text/markdown": [
       "\n",
       "A data.frame: 1 × 7\n",
       "\n",
       "| SampleID &lt;chr&gt; | Gene1 &lt;dbl&gt; | Gene2 &lt;dbl&gt; | Gene3 &lt;dbl&gt; | Age &lt;dbl&gt; | Treatment &lt;chr&gt; | Response &lt;chr&gt; |\n",
       "|---|---|---|---|---|---|---|\n",
       "| S2 | 6.3 | 2.7 | 8.5 | 52 | B | Non-Responder |\n",
       "\n"
      ],
      "text/plain": [
       "  SampleID Gene1 Gene2 Gene3 Age Treatment Response     \n",
       "1 S2       6.3   2.7   8.5   52  B         Non-Responder"
      ]
     },
     "metadata": {},
     "output_type": "display_data"
    }
   ],
   "source": [
    "filtered_data <- filter(data, Age>50 & Gene1/Gene2>2)\n",
    "\n",
    "filtered_data"
   ]
  },
  {
   "cell_type": "markdown",
   "metadata": {},
   "source": [
    "Adding new columns as a combination of others is also immediate "
   ]
  },
  {
   "cell_type": "code",
   "execution_count": 7,
   "metadata": {},
   "outputs": [
    {
     "data": {
      "text/html": [
       "<table class=\"dataframe\">\n",
       "<caption>A data.frame: 5 × 8</caption>\n",
       "<thead>\n",
       "\t<tr><th scope=col>SampleID</th><th scope=col>Gene1</th><th scope=col>Gene2</th><th scope=col>Gene3</th><th scope=col>Age</th><th scope=col>Treatment</th><th scope=col>Response</th><th scope=col>GeneTotal</th></tr>\n",
       "\t<tr><th scope=col>&lt;chr&gt;</th><th scope=col>&lt;dbl&gt;</th><th scope=col>&lt;dbl&gt;</th><th scope=col>&lt;dbl&gt;</th><th scope=col>&lt;dbl&gt;</th><th scope=col>&lt;chr&gt;</th><th scope=col>&lt;chr&gt;</th><th scope=col>&lt;dbl&gt;</th></tr>\n",
       "</thead>\n",
       "<tbody>\n",
       "\t<tr><td>S1</td><td>5.2</td><td>3.8</td><td>7.1</td><td>45</td><td>A</td><td>Responder    </td><td>16.1</td></tr>\n",
       "\t<tr><td>S2</td><td>6.3</td><td>2.7</td><td>8.5</td><td>52</td><td>B</td><td>Non-Responder</td><td>17.5</td></tr>\n",
       "\t<tr><td>S3</td><td>4.9</td><td>3.5</td><td>6.8</td><td>37</td><td>A</td><td>Responder    </td><td>15.2</td></tr>\n",
       "\t<tr><td>S4</td><td>7.2</td><td>4.1</td><td>9.2</td><td>50</td><td>B</td><td>Non-Responder</td><td>20.5</td></tr>\n",
       "\t<tr><td>S5</td><td>5.8</td><td>3.9</td><td>7.3</td><td>43</td><td>A</td><td>Responder    </td><td>17.0</td></tr>\n",
       "</tbody>\n",
       "</table>\n"
      ],
      "text/latex": [
       "A data.frame: 5 × 8\n",
       "\\begin{tabular}{llllllll}\n",
       " SampleID & Gene1 & Gene2 & Gene3 & Age & Treatment & Response & GeneTotal\\\\\n",
       " <chr> & <dbl> & <dbl> & <dbl> & <dbl> & <chr> & <chr> & <dbl>\\\\\n",
       "\\hline\n",
       "\t S1 & 5.2 & 3.8 & 7.1 & 45 & A & Responder     & 16.1\\\\\n",
       "\t S2 & 6.3 & 2.7 & 8.5 & 52 & B & Non-Responder & 17.5\\\\\n",
       "\t S3 & 4.9 & 3.5 & 6.8 & 37 & A & Responder     & 15.2\\\\\n",
       "\t S4 & 7.2 & 4.1 & 9.2 & 50 & B & Non-Responder & 20.5\\\\\n",
       "\t S5 & 5.8 & 3.9 & 7.3 & 43 & A & Responder     & 17.0\\\\\n",
       "\\end{tabular}\n"
      ],
      "text/markdown": [
       "\n",
       "A data.frame: 5 × 8\n",
       "\n",
       "| SampleID &lt;chr&gt; | Gene1 &lt;dbl&gt; | Gene2 &lt;dbl&gt; | Gene3 &lt;dbl&gt; | Age &lt;dbl&gt; | Treatment &lt;chr&gt; | Response &lt;chr&gt; | GeneTotal &lt;dbl&gt; |\n",
       "|---|---|---|---|---|---|---|---|\n",
       "| S1 | 5.2 | 3.8 | 7.1 | 45 | A | Responder     | 16.1 |\n",
       "| S2 | 6.3 | 2.7 | 8.5 | 52 | B | Non-Responder | 17.5 |\n",
       "| S3 | 4.9 | 3.5 | 6.8 | 37 | A | Responder     | 15.2 |\n",
       "| S4 | 7.2 | 4.1 | 9.2 | 50 | B | Non-Responder | 20.5 |\n",
       "| S5 | 5.8 | 3.9 | 7.3 | 43 | A | Responder     | 17.0 |\n",
       "\n"
      ],
      "text/plain": [
       "  SampleID Gene1 Gene2 Gene3 Age Treatment Response      GeneTotal\n",
       "1 S1       5.2   3.8   7.1   45  A         Responder     16.1     \n",
       "2 S2       6.3   2.7   8.5   52  B         Non-Responder 17.5     \n",
       "3 S3       4.9   3.5   6.8   37  A         Responder     15.2     \n",
       "4 S4       7.2   4.1   9.2   50  B         Non-Responder 20.5     \n",
       "5 S5       5.8   3.9   7.3   43  A         Responder     17.0     "
      ]
     },
     "metadata": {},
     "output_type": "display_data"
    }
   ],
   "source": [
    "mutated_data <- mutate(data, GeneTotal = Gene1 + Gene2 + Gene3)\n",
    "\n",
    "mutated_data"
   ]
  },
  {
   "cell_type": "markdown",
   "metadata": {},
   "source": [
    "Now we introduce the pipe symbol `%>%`. This combines with the dplyr functions such that subsequent operations between pipes reflect the way we enunciate them orally. For example: The dataframe **data** must be **grouped by** treatment and for each group **summarise** the Gene1 by its average. **Arrange** the result by the average of Gene1 in descending order.\n",
    "\n",
    ":::{.callout-note title=\"dataframes and tibbles\"}\n",
    "\n",
    "Note how the output is no longer a dataframe, but a *tibble*. A tibble is a more \"modern\" version of the dataframe which is used in the tidyverse packages. You cannot really notice much difference when using them. To ensure you are using a tibble , you can always define a dataframe and transform it into a tibble using the command `as_tibble`. [Read more about tibbles at this link](https://tibble.tidyverse.org/).\n",
    "\n",
    ":::"
   ]
  },
  {
   "cell_type": "code",
   "execution_count": 27,
   "metadata": {},
   "outputs": [
    {
     "data": {
      "text/html": [
       "<table class=\"dataframe\">\n",
       "<caption>A tibble: 2 × 2</caption>\n",
       "<thead>\n",
       "\t<tr><th scope=col>Treatment</th><th scope=col>avgGene1</th></tr>\n",
       "\t<tr><th scope=col>&lt;chr&gt;</th><th scope=col>&lt;dbl&gt;</th></tr>\n",
       "</thead>\n",
       "<tbody>\n",
       "\t<tr><td>B</td><td>6.75</td></tr>\n",
       "\t<tr><td>A</td><td>5.30</td></tr>\n",
       "</tbody>\n",
       "</table>\n"
      ],
      "text/latex": [
       "A tibble: 2 × 2\n",
       "\\begin{tabular}{ll}\n",
       " Treatment & avgGene1\\\\\n",
       " <chr> & <dbl>\\\\\n",
       "\\hline\n",
       "\t B & 6.75\\\\\n",
       "\t A & 5.30\\\\\n",
       "\\end{tabular}\n"
      ],
      "text/markdown": [
       "\n",
       "A tibble: 2 × 2\n",
       "\n",
       "| Treatment &lt;chr&gt; | avgGene1 &lt;dbl&gt; |\n",
       "|---|---|\n",
       "| B | 6.75 |\n",
       "| A | 5.30 |\n",
       "\n"
      ],
      "text/plain": [
       "  Treatment avgGene1\n",
       "1 B         6.75    \n",
       "2 A         5.30    "
      ]
     },
     "metadata": {},
     "output_type": "display_data"
    }
   ],
   "source": [
    "grouped_data <- data %>% \n",
    "                group_by(Treatment) %>% \n",
    "                summarise(avgGene1 = mean(Gene1)) %>%\n",
    "                arrange( desc(avgGene1) )\n",
    "\n",
    "grouped_data"
   ]
  },
  {
   "cell_type": "markdown",
   "metadata": {},
   "source": [
    "To save your table in the `Output` folder as csv file:"
   ]
  },
  {
   "cell_type": "code",
   "execution_count": 30,
   "metadata": {},
   "outputs": [],
   "source": [
    "write.csv(grouped_data, \"Output/grouped.csv\")"
   ]
  },
  {
   "cell_type": "markdown",
   "metadata": {},
   "source": [
    "Now, if you ran all the commands in your console, create a new R script (File -> New -> R Script) and paste all the code used until now, then save it. If you instead used a Script or Markdown, save it. Move the script/markdown file into the `Code` folder, so you keep the files organized! Now run again\n",
    "\n",
    "```{.r}\n",
    "renv::snapshot()\n",
    "```\n",
    "\n",
    "You should be requested for permission to write some packages into `renv.lock`. Accept and look into the file, which not should be different and including new package names."
   ]
  },
  {
   "cell_type": "markdown",
   "metadata": {},
   "source": [
    ":::{.callout-note title=\"wrap up\"}\n",
    "\n",
    "Now you know how to manage a project in RStudio and the packages you need. `dplyr` and the other packages pivoting around `tidyverse` have a plethora of useful functionalities. A good place to start from is to use a table you need for your own work, and try out various things you can do. Some good resources for training are available as links below:\n",
    "\n",
    "- [A chapter of **R for data science** from the data carpentry](https://uw-madison-datascience.github.io/R-health-lesson/03-dplyr/index.html). Go through it and look at other chapters as well, they are very instructive!\n",
    "\n",
    "- [A cheatsheet for all `dplyr` manipulation and for other important tidyverse packages + Rstudio.](https://rstudio.github.io/cheatsheets/)  Keep some at your desk!\n",
    "\n",
    ":::"
   ]
  },
  {
   "cell_type": "markdown",
   "metadata": {},
   "source": [
    "# Python Tutorial\n",
    "\n",
    "We will first install `Anaconda`, which allows you to create environments (isolated group of packages to run a project and ensure reproducibility), and run softwares to code interactively (we will use one called jupyterlab).\n",
    "\n",
    "## Install Anaconda and create an environment\n",
    "\n",
    "**1.** Download Anaconda from [the download page](https://www.anaconda.com/download). Uso also the `Sign In` button of the webpage to create an account: this will enable you to use an AI-chat showing up while you code, and which can help you doing a lot of things.\n",
    "\n",
    ":::{.callout-note}\n",
    "\n",
    "This guide has been made with Windows, and works similarly with MacOS. For Linux, you will download a file with `.sh` extension, which you can execute in the command line with `bash installer.sh`.\n",
    "\n",
    ":::\n",
    "\n",
    "**2.** Once Anaconda is installed, open **Anaconda Navigator**. Log into Anaconda Cloud from the software, and eventually update Anaconda Navigator if asked.\n",
    "\n",
    "**3.** Your initial window would look similarly as below. What you can see is a suite of softwares. Some of those are installed and they are found in the anaconda **environment** called `base (root)`, as shown in the red circle. It is good advice not to modify the base environment, because Anaconda itself is installed into it!\n",
    "\n",
    "![](./2024-06-27-ABC2/landing.png)\n",
    "\n",
    "**4.** We create a new environment with only few needed packages for our tutorial. Click on `Environments` on the toolbar (red circle). You can see the base (root) environment and a long list of packages it contains. Click on `Create` (blue circle).\n",
    "\n",
    "![](./2024-06-27-ABC2/envlist.png)\n",
    "\n",
    "**5.** In the appearing window choose a name for the environment and select `Python`. Then click on `Create`. It takes a bit of time to create the environment.\n",
    "\n",
    "![](./2024-06-27-ABC2/options.png)\n",
    "\n",
    "**6.** Select the environment. It will load a few packages (just Python and its essential dependencies), but we want to install new ones. Open the filtering menu (green circle above) and choose `All` to view all existing packages. Select the following packages: `pandas`, `numpy`, `jupyterlab`, `anaconda-toolbox`, `seaborn` and click `Apply`. A list of dependencies will be shown, and you have to accept that to continue. Wait for the installations to go through.\n",
    "\n",
    "**7.** Now select the environment again. There are much more packages installed and ready to use. Click on `Home` in the toolbar: you will see the softwares installed in your environment (choose `Installed Application` from the dropdown menu to see only the installed ones).\n",
    "\n",
    ":::{.callout-note title=\"wrap up\"}\n",
    "\n",
    "You can create various environments to keep specific versions of packages constant in separate data science projects. This ensures a high degree of reproducibility in your projects.\n",
    "\n",
    "An environment can include the softwares needed to code (RStudio, jupyterLab are the most famous, but also others can be installed).\n",
    "\n",
    "We will use the created environment to run some basic commands in python.\n",
    "\n",
    ":::"
   ]
  },
  {
   "cell_type": "markdown",
   "metadata": {},
   "source": [
    "## Python basics\n",
    "\n",
    "Here we look at the python basics: variables, arrays and dataframes. We will immediately work with two packages: `numpy` and `pandas`, which make the use of arrays and dataframes very flexible.\n",
    "\n",
    "### JupyterLab\n",
    "\n",
    "Launch jupyterlab from the Anaconda Home, using the environment ABC2. You should be able to see Jupyterlab opened in your internet browser. It will look similar to the one below: it has a file browser, can show the opened files on different tabs, and has a coding window where the opened file is shown. When you first open jupyterlab you will instead see a Launcher, which gives you a choice for all the available things to do, usually Notebooks, Console, or Other, with related available languages.\n",
    "\n",
    "![](./2024-06-27-ABC2/jupyterLab.png)\n",
    "\n",
    "You do not create projects in JupyterLab, you simply create folders instead. \n",
    "\n",
    "- Use the browser to create a folder wherever you prefere, and organize it into subfolders: `Code`, `Output`, `Data`, `Scripts`. You can use the small button above the browser to create a folder, or simply the right-click options. \n",
    "\n",
    "- Again with a right click, create a notebook inside the `Code` folder\n",
    "\n",
    "- When asked to choose a kernel, select `python 3`. A kernel includes the programming language and its packages as we installed them into the environment using Anaconda.\n",
    "\n",
    "    ![](./2024-06-27-ABC2/kernel.png){fig-align=\"center\", width=300px}\n",
    "\n",
    "A notebook looks like this:\n",
    "\n",
    " ![](./2024-06-27-ABC2/notebook.png){width=800px}\n",
    "\n",
    " The gray area is a code cell, where you can write code. Select the left border out of a cell to\n",
    "\n",
    " - transform it into a Markdown cell where you can write text: key M of your keyboard\n",
    " - add a cell below: key B\n",
    " - run the cell and add one below: keys Shift+Enter\n",
    "\n",
    "\n",
    "\n",
    ":::{.callout-tip}\n",
    "\n",
    "A notebook looks a lot like a text file. When you open it, it will show all results and images from your code! You can share it to anyone without the need to run the code again for the recipient, if it is needed to simply show some results.\n",
    "\n",
    "The webpage you are reading now has been created with a notebook!\n",
    "\n",
    ":::\n",
    "\n",
    "Let's turn things into practice now. Transform the first cell into markdown (key M) and write a title with \n",
    "\n",
    "```\n",
    " ## ABC2 is cool\n",
    "```\n",
    "\n",
    "and press Shift+Enter. You will get a new cell below, and the text will be formatted from Markdown. \n",
    "\n",
    "Now we write some code in the new cell and press Shift+Enter to execute:"
   ]
  },
  {
   "cell_type": "code",
   "execution_count": 1,
   "metadata": {},
   "outputs": [
    {
     "name": "stdout",
     "output_type": "stream",
     "text": [
      "Hello ABC\n",
      "x\n",
      "[1 2 3 4 5 6 7 8 9]\n",
      "y\n",
      "[ 1  4  9 16 25 36 49 64 81]\n"
     ]
    }
   ],
   "source": [
    "import numpy as np\n",
    "import pandas as pd\n",
    "\n",
    "print(\"Hello ABC\")\n",
    "x = np.arange(1,10)\n",
    "y = x**2\n",
    "print(\"x\")\n",
    "print(x)\n",
    "print(\"y\")\n",
    "print(y)"
   ]
  },
  {
   "cell_type": "markdown",
   "metadata": {},
   "source": [
    "Things should look as below:\n",
    "\n",
    " ![](./2024-06-27-ABC2/run.png){width=800px}\n",
    "\n",
    " The little number on the left shows how many code steps you have been running so far. The code imports relevant libraries and shortens their name with `np` and `pd`, which makes coding easier and compact. Then we use the library `np` to define an array of numbers from 1 to 10, and we square this array assigning it to `y`. Finally we print the two arrays.\n",
    "\n",
    "All variables are assigned with the `=` symbol and you can do all arithmetic operations:\n",
    "\n"
   ]
  },
  {
   "cell_type": "code",
   "execution_count": 2,
   "metadata": {},
   "outputs": [
    {
     "name": "stdout",
     "output_type": "stream",
     "text": [
      "5\n",
      "18\n",
      "25\n"
     ]
    }
   ],
   "source": [
    "print(2+3)\n",
    "print(9*2)\n",
    "print(5**2)"
   ]
  },
  {
   "cell_type": "markdown",
   "metadata": {},
   "source": [
    "### Pandas dataframes\n",
    "\n",
    "we procees looking into a small dataframe. Let's create one using the `pandas` library"
   ]
  },
  {
   "cell_type": "code",
   "execution_count": 3,
   "metadata": {},
   "outputs": [
    {
     "data": {
      "text/html": [
       "<div>\n",
       "<style scoped>\n",
       "    .dataframe tbody tr th:only-of-type {\n",
       "        vertical-align: middle;\n",
       "    }\n",
       "\n",
       "    .dataframe tbody tr th {\n",
       "        vertical-align: top;\n",
       "    }\n",
       "\n",
       "    .dataframe thead th {\n",
       "        text-align: right;\n",
       "    }\n",
       "</style>\n",
       "<table border=\"1\" class=\"dataframe\">\n",
       "  <thead>\n",
       "    <tr style=\"text-align: right;\">\n",
       "      <th></th>\n",
       "      <th>SampleID</th>\n",
       "      <th>Gene1</th>\n",
       "      <th>Gene2</th>\n",
       "      <th>Gene3</th>\n",
       "      <th>Age</th>\n",
       "      <th>Treatment</th>\n",
       "      <th>Response</th>\n",
       "    </tr>\n",
       "  </thead>\n",
       "  <tbody>\n",
       "    <tr>\n",
       "      <th>0</th>\n",
       "      <td>S1</td>\n",
       "      <td>5.2</td>\n",
       "      <td>3.8</td>\n",
       "      <td>7.1</td>\n",
       "      <td>45</td>\n",
       "      <td>A</td>\n",
       "      <td>Responder</td>\n",
       "    </tr>\n",
       "    <tr>\n",
       "      <th>1</th>\n",
       "      <td>S2</td>\n",
       "      <td>6.3</td>\n",
       "      <td>2.7</td>\n",
       "      <td>8.5</td>\n",
       "      <td>52</td>\n",
       "      <td>B</td>\n",
       "      <td>Non-Responder</td>\n",
       "    </tr>\n",
       "    <tr>\n",
       "      <th>2</th>\n",
       "      <td>S3</td>\n",
       "      <td>4.9</td>\n",
       "      <td>3.5</td>\n",
       "      <td>6.8</td>\n",
       "      <td>37</td>\n",
       "      <td>A</td>\n",
       "      <td>Responder</td>\n",
       "    </tr>\n",
       "    <tr>\n",
       "      <th>3</th>\n",
       "      <td>S4</td>\n",
       "      <td>7.2</td>\n",
       "      <td>4.1</td>\n",
       "      <td>9.2</td>\n",
       "      <td>50</td>\n",
       "      <td>B</td>\n",
       "      <td>Non-Responder</td>\n",
       "    </tr>\n",
       "    <tr>\n",
       "      <th>4</th>\n",
       "      <td>S5</td>\n",
       "      <td>5.8</td>\n",
       "      <td>3.9</td>\n",
       "      <td>7.3</td>\n",
       "      <td>43</td>\n",
       "      <td>A</td>\n",
       "      <td>Responder</td>\n",
       "    </tr>\n",
       "  </tbody>\n",
       "</table>\n",
       "</div>"
      ],
      "text/plain": [
       "  SampleID  Gene1  Gene2  Gene3  Age Treatment       Response\n",
       "0       S1    5.2    3.8    7.1   45         A      Responder\n",
       "1       S2    6.3    2.7    8.5   52         B  Non-Responder\n",
       "2       S3    4.9    3.5    6.8   37         A      Responder\n",
       "3       S4    7.2    4.1    9.2   50         B  Non-Responder\n",
       "4       S5    5.8    3.9    7.3   43         A      Responder"
      ]
     },
     "execution_count": 3,
     "metadata": {},
     "output_type": "execute_result"
    }
   ],
   "source": [
    "# Create the dataframe\n",
    "data = pd.DataFrame({\n",
    "    'SampleID': ['S1', 'S2', 'S3', 'S4', 'S5'],\n",
    "    'Gene1': [5.2, 6.3, 4.9, 7.2, 5.8],\n",
    "    'Gene2': [3.8, 2.7, 3.5, 4.1, 3.9],\n",
    "    'Gene3': [7.1, 8.5, 6.8, 9.2, 7.3],\n",
    "    'Age': [45, 52, 37, 50, 43],\n",
    "    'Treatment': ['A', 'B', 'A', 'B', 'A'],\n",
    "    'Response': ['Responder', 'Non-Responder', 'Responder', 'Non-Responder', 'Responder']\n",
    "})\n",
    "\n",
    "# View the dataframe\n",
    "data"
   ]
  },
  {
   "cell_type": "markdown",
   "metadata": {},
   "source": [
    "You can plot variables from the dataframe with the package `seaborn`. For example"
   ]
  },
  {
   "cell_type": "code",
   "execution_count": 8,
   "metadata": {},
   "outputs": [
    {
     "data": {
      "text/plain": [
       "<Axes: xlabel='Gene1', ylabel='Gene2'>"
      ]
     },
     "execution_count": 8,
     "metadata": {},
     "output_type": "execute_result"
    },
    {
     "data": {
      "image/png": "[encoded data removed]",
      "text/plain": [
       "<Figure size 640x480 with 1 Axes>"
      ]
     },
     "metadata": {},
     "output_type": "display_data"
    }
   ],
   "source": [
    "import seaborn as sns\n",
    "\n",
    "sns.scatterplot(data=data,\n",
    "                x=\"Gene1\",\n",
    "                y=\"Gene2\",\n",
    "                hue=\"Response\",\n",
    "                size=\"Age\"\n",
    "               )"
   ]
  },
  {
   "cell_type": "markdown",
   "metadata": {},
   "source": [
    "In the command above we used some options beyond `x` and `y`. Can you see what they match in the plot?"
   ]
  },
  {
   "cell_type": "markdown",
   "metadata": {},
   "source": [
    ":::{.callout-tip}\n",
    "\n",
    "The [`seaborn` package webpage](https://seaborn.pydata.org/) has great examples for any kind of plot you desire!\n",
    "\n",
    ":::"
   ]
  },
  {
   "cell_type": "markdown",
   "metadata": {},
   "source": [
    "There are lots of summary statistics already implemented in `python`. Below we calculate mean, median and standard deviation for the column `Gene1` of the data frame and then we print them. "
   ]
  },
  {
   "cell_type": "code",
   "execution_count": 11,
   "metadata": {},
   "outputs": [
    {
     "name": "stdout",
     "output_type": "stream",
     "text": [
      "mean, median and sd:\n"
     ]
    },
    {
     "data": {
      "text/plain": [
       "[np.float64(5.88), np.float64(5.8), np.float64(0.8182909018191513)]"
      ]
     },
     "execution_count": 11,
     "metadata": {},
     "output_type": "execute_result"
    }
   ],
   "source": [
    "x = data.Gene1\n",
    "meanG1 = np.mean(x)\n",
    "medianG1 = np.median(x)\n",
    "sdG1 = np.std(x)\n",
    "\n",
    "print(\"mean, median and sd:\")\n",
    "[meanG1, medianG1, sdG1]"
   ]
  },
  {
   "cell_type": "markdown",
   "metadata": {},
   "source": [
    "This was neat! Can you try to calculate the cumulative sum of the difference between Gene1 and Gene2?\n",
    "\n",
    ":::{.callout-tip collapse=\"true\" title=\"Answer\"}\n",
    "\n",
    "The answer is\n",
    "\n",
    "```{.python}\n",
    "x = data.Gene1 - data.Gene2\n",
    "csum = np.cumsum(x)\n",
    "print(\"cumulative sum of Gene1 - Gene2:\")\n",
    "print(csum)\n",
    "```\n",
    "\n",
    ":::"
   ]
  },
  {
   "cell_type": "markdown",
   "metadata": {},
   "source": [
    "### Functions\n",
    "\n",
    "Although `python` and the packages you can find have almost everything you will need, sometimes you might need to define your own function. The syntax to do it is very easy: you define a function name, which then you will be able to use it. Below, there is a function taking an argument (`arg1`) and multiplying it by 5. The output needs to be explicit through the `return()` function."
   ]
  },
  {
   "cell_type": "code",
   "execution_count": 17,
   "metadata": {},
   "outputs": [],
   "source": [
    "def myFunction(arg1):\n",
    "    res = arg1 * 5\n",
    "    return(res)"
   ]
  },
  {
   "cell_type": "markdown",
   "metadata": {},
   "source": [
    "Such a function works if the argument is a number, but also if it is an array!"
   ]
  },
  {
   "cell_type": "code",
   "execution_count": 20,
   "metadata": {},
   "outputs": [
    {
     "name": "stdout",
     "output_type": "stream",
     "text": [
      "with a number only\n",
      "25\n",
      "with an array\n",
      "0    26.0\n",
      "1    31.5\n",
      "2    24.5\n",
      "3    36.0\n",
      "4    29.0\n",
      "Name: Gene1, dtype: float64\n"
     ]
    }
   ],
   "source": [
    "print(\"with a number only\")\n",
    "print( myFunction(5) )\n",
    "print(\"with an array\")\n",
    "print( myFunction(data.Gene1) )"
   ]
  },
  {
   "cell_type": "markdown",
   "metadata": {},
   "source": [
    "Try to make a function that takes three vectors, plots the first against the sum of the second and third, and returns the sum of all three vectors. Use the plot command we applied previously for help.\n",
    "\n",
    ":::{.callout-tip collapse=\"true\" title=\"Answer\"}\n",
    "\n",
    "\n",
    "The answer is \n",
    "\n",
    "```{.python}\n",
    "def simpleSumPlot(arg1, arg2, arg3):\n",
    "    arg23 = arg2 + arg3\n",
    "    arg123 = arg1 + arg2 + arg3\n",
    "\n",
    "    #plotting\n",
    "    fig = sns.scatterplot(x = arg1, \n",
    "                    y = arg2)\n",
    "    fig.set_title(\"Plot with my own function\")\n",
    "    fig\n",
    "\n",
    "    return(arg123)\n",
    "```\n",
    "\n",
    "Now you can try this on vectors **of the same length**. We can use the ones in our data frame!\n",
    "\n",
    "```{.python}\n",
    "\n",
    "simpleSumPlot(arg1 = data.Gene1,\n",
    "             arg2 = data.Gene2,\n",
    "             arg3 = data.Gene3)\n",
    "\n",
    "```\n",
    "\n",
    ":::\n"
   ]
  },
  {
   "cell_type": "markdown",
   "metadata": {},
   "source": [
    "### Read and write files"
   ]
  },
  {
   "cell_type": "markdown",
   "metadata": {},
   "source": [
    "Save a dataframe with the command `.to_csv`"
   ]
  },
  {
   "cell_type": "code",
   "execution_count": 28,
   "metadata": {},
   "outputs": [],
   "source": [
    "data.to_csv('../Ouput/data.csv')"
   ]
  },
  {
   "cell_type": "markdown",
   "metadata": {},
   "source": [
    "And read it again using"
   ]
  },
  {
   "cell_type": "code",
   "execution_count": 29,
   "metadata": {},
   "outputs": [],
   "source": [
    "data2 = pd.read_csv('../Ouput/data.csv')"
   ]
  },
  {
   "cell_type": "code",
   "execution_count": 30,
   "metadata": {},
   "outputs": [
    {
     "data": {
      "text/html": [
       "<div>\n",
       "<style scoped>\n",
       "    .dataframe tbody tr th:only-of-type {\n",
       "        vertical-align: middle;\n",
       "    }\n",
       "\n",
       "    .dataframe tbody tr th {\n",
       "        vertical-align: top;\n",
       "    }\n",
       "\n",
       "    .dataframe thead th {\n",
       "        text-align: right;\n",
       "    }\n",
       "</style>\n",
       "<table border=\"1\" class=\"dataframe\">\n",
       "  <thead>\n",
       "    <tr style=\"text-align: right;\">\n",
       "      <th></th>\n",
       "      <th>Unnamed: 0</th>\n",
       "      <th>SampleID</th>\n",
       "      <th>Gene1</th>\n",
       "      <th>Gene2</th>\n",
       "      <th>Gene3</th>\n",
       "      <th>Age</th>\n",
       "      <th>Treatment</th>\n",
       "      <th>Response</th>\n",
       "    </tr>\n",
       "  </thead>\n",
       "  <tbody>\n",
       "    <tr>\n",
       "      <th>0</th>\n",
       "      <td>0</td>\n",
       "      <td>S1</td>\n",
       "      <td>5.2</td>\n",
       "      <td>3.8</td>\n",
       "      <td>7.1</td>\n",
       "      <td>45</td>\n",
       "      <td>A</td>\n",
       "      <td>Responder</td>\n",
       "    </tr>\n",
       "    <tr>\n",
       "      <th>1</th>\n",
       "      <td>1</td>\n",
       "      <td>S2</td>\n",
       "      <td>6.3</td>\n",
       "      <td>2.7</td>\n",
       "      <td>8.5</td>\n",
       "      <td>52</td>\n",
       "      <td>B</td>\n",
       "      <td>Non-Responder</td>\n",
       "    </tr>\n",
       "    <tr>\n",
       "      <th>2</th>\n",
       "      <td>2</td>\n",
       "      <td>S3</td>\n",
       "      <td>4.9</td>\n",
       "      <td>3.5</td>\n",
       "      <td>6.8</td>\n",
       "      <td>37</td>\n",
       "      <td>A</td>\n",
       "      <td>Responder</td>\n",
       "    </tr>\n",
       "    <tr>\n",
       "      <th>3</th>\n",
       "      <td>3</td>\n",
       "      <td>S4</td>\n",
       "      <td>7.2</td>\n",
       "      <td>4.1</td>\n",
       "      <td>9.2</td>\n",
       "      <td>50</td>\n",
       "      <td>B</td>\n",
       "      <td>Non-Responder</td>\n",
       "    </tr>\n",
       "    <tr>\n",
       "      <th>4</th>\n",
       "      <td>4</td>\n",
       "      <td>S5</td>\n",
       "      <td>5.8</td>\n",
       "      <td>3.9</td>\n",
       "      <td>7.3</td>\n",
       "      <td>43</td>\n",
       "      <td>A</td>\n",
       "      <td>Responder</td>\n",
       "    </tr>\n",
       "  </tbody>\n",
       "</table>\n",
       "</div>"
      ],
      "text/plain": [
       "   Unnamed: 0 SampleID  Gene1  Gene2  Gene3  Age Treatment       Response\n",
       "0           0       S1    5.2    3.8    7.1   45         A      Responder\n",
       "1           1       S2    6.3    2.7    8.5   52         B  Non-Responder\n",
       "2           2       S3    4.9    3.5    6.8   37         A      Responder\n",
       "3           3       S4    7.2    4.1    9.2   50         B  Non-Responder\n",
       "4           4       S5    5.8    3.9    7.3   43         A      Responder"
      ]
     },
     "execution_count": 30,
     "metadata": {},
     "output_type": "execute_result"
    }
   ],
   "source": [
    "data2"
   ]
  },
  {
   "cell_type": "markdown",
   "metadata": {},
   "source": [
    ":::{.callout-note title=\"wrap up\"}\n",
    "\n",
    "You learned how to use jupyterlab notebooks and how to do basic operations and plots with python.\n",
    "\n",
    ":::"
   ]
  }
 ],
 "metadata": {
  "kernelspec": {
   "display_name": "Python 3 (ipykernel)",
   "language": "python",
   "name": "python3"
  },
  "language_info": {
   "codemirror_mode": {
    "name": "ipython",
    "version": 3
   },
   "file_extension": ".py",
   "mimetype": "text/x-python",
   "name": "python",
   "nbconvert_exporter": "python",
   "pygments_lexer": "ipython3",
   "version": "3.12.4"
  }
 },
 "nbformat": 4,
 "nbformat_minor": 4
}
