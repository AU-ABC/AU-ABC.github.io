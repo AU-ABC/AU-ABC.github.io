{
 "cells": [
  {
   "cell_type": "markdown",
   "id": "9289c3e6-7800-46eb-9c6d-a61359d6ceea",
   "metadata": {},
   "source": [
    "---\n",
    "title: \"ABC.1: Install R+Rstudio, first R coding problems/solutions\"\n",
    "author: \"Dimitrios Maniatis\"\n",
    "image: ../img/Rlogo.png\n",
    "date: 2024-06-13\n",
    "categories: [R, RStudio, Dataframe]\n",
    "description: \"Things worth remembering from the ABC.1\"\n",
    "eval: true\n",
    "---\n",
    "\n",
    "# Slides\n",
    "\n",
    "Introductory slides about the ABC, and who is behind the Health Data Science Sandbox and the Core Bioinformatics Facility\n",
    "\n",
    "&nbsp;\n",
    "\n",
    " <p align=\"center\">\n",
    "  <a href=\"https://abc.au.dk/documentation/slides/20240613-intro.zip\" style=\"background-color: #4266A1; color: #FFFFFF; padding: 30px 20px; text-decoration: none; border-radius: 5px;\">\n",
    "    Download Slides\n",
    "  </a>\n",
    "</p>\n",
    "\n",
    "&nbsp;\n",
    "\n",
    "# Tutorial: Install R\n",
    "\n",
    "A short guide on how to install a specific version of `R` on your computer.\n",
    "\n",
    ":::{.callout-warning}\n",
    "\n",
    "We show screenshots for windows, but the procedure is analogous for other systems.\n",
    "\n",
    ":::\n",
    "\n",
    "\n",
    "- Go to the **[Cran Website](https://cran.r-project.org/)**\n",
    "    \n",
    "- Click on the Download R link\n",
    "\n",
    "- Click on \"base\" to download the base R. This is R with its basic functions.\n",
    "\n",
    "<img src=\"./2024-06-13-instR/images/guideR.gif\" width=\"800\">\n",
    "\n",
    "- Run the downloaded installer file and follow the default instructions. \n",
    "\n",
    "- Now R is installed in your system. In windows it looks like this:\n",
    "\n",
    "<img src=\"./2024-06-13-instR/images/folders.png\" width=\"800\">\n",
    "\n",
    "You can see that because I had previously installed another version of R, there are **two installations in separate folders**. It is a good idea to stick with one version for the duration of a project. Always check the R version when you launch R - this can be done easily with the command `R.Version()`. \n",
    "\n",
    ":::{.callout-note}\n",
    "A good way of making sure that you don't mix versions of the software you are using and their packages is to use a package manager (`R` includes a package manager called `renv`, but other like [conda](https://docs.conda.io/en/latest/) are often used), but that is a conversation for another day. For now we continue with the installation of Rstudio.\n",
    ":::\n",
    "\n",
    "Try to launch `R`. It should be installed as any other software in your computer. You will see that it opens a simple command line, and informs you on the version you are using.\n",
    "\n",
    "# Install RStudio\n",
    "\n",
    "When you install `R` alone, you can use it only through a rather primitive looking command line. \n",
    "This is why we use often softwares like `RStudio`, which provide a nicer interface to use `R`, including things such as a viewer for the data, an installer for the packages, a project manager, and a text editor. You don't have to use all the many functions of RStudio, but it is very handy to know the basics.\n",
    "\n",
    ":::{.callout-note}\n",
    "Rstudio is technically called an IDE (Integrated Development Environment) for the R language. An integrated development environment (IDE) is a software application that helps programmers develop software code efficiently. It increases developer productivity by combining capabilities such as software editing, building, testing, and packaging in an easy-to-use application.\n",
    ":::\n",
    "\n",
    "- Go to the [Rstudio website](https://posit.co/download/rstudio-desktop/). (Don't get confused by the name, they simply changed it)\n",
    "\n",
    "- Download RStudio and start the installer\n",
    "\n",
    "<img src=\"./2024-06-13-instR/images/rstudio.png\" width=\"800\">\n",
    "\n",
    "- Follow the default options for installation\n",
    "\n",
    "\n",
    "# Getting Familiar with RStudio and writing Scripts\n",
    "\n",
    "## Rstudio Layout\n",
    "\n",
    "- Launch RStudio.\n",
    "- Familiarize yourself with the RStudio interface, which consists of:\n",
    "   1. **Source Pane:** Where you write and edit scripts.\n",
    "   2. **Console Pane:** Where you run commands and see output.\n",
    "   3. **Environment/History Pane:** Shows your workspace and command history.\n",
    "   4. **Files/Plots/Packages/Help/Viewer Pane:** Access your files, view plots, manage packages, get help, and view HTML output.\n",
    "\n",
    "\n",
    "<img src=\"./2024-06-13-instR/images/rstudiolayout.png\" alt=\"RStudio Layout\" width=\"800\">\n",
    "\n",
    "\n",
    "## Make a simple script\n",
    "\n",
    "- Click on `File` > `New File` > `R Script` to open a new script editor.\n",
    "- Inside the file you created, Write a simple script. Copy for example the script below:"
   ]
  },
  {
   "cell_type": "code",
   "execution_count": 1,
   "id": "f8c50e79-9d91-427e-bb37-46308fbbae22",
   "metadata": {},
   "outputs": [
    {
     "name": "stdout",
     "output_type": "stream",
     "text": [
      "[1] \"Hello ABC\"\n"
     ]
    },
    {
     "data": {
      "image/png": "[encoded data removed]",
      "text/plain": [
       "plot without title"
      ]
     },
     "metadata": {
      "image/png": {
       "height": 420,
       "width": 420
      }
     },
     "output_type": "display_data"
    }
   ],
   "source": [
    "print(\"Hello ABC\")\n",
    "x <- 1:10\n",
    "y <- x^2\n",
    "plot(x, y, type=\"b\", col=\"blue\")"
   ]
  },
  {
   "cell_type": "markdown",
   "id": "878f7be8-ed10-4ceb-ab0b-3d150d279b7c",
   "metadata": {},
   "source": [
    "- Try to run the script (The small `Run` button). Two things should happen:\n",
    "  - An output is shown in the console (bottom left)\n",
    "  - A plot is created and shown in the plotting window (bottom right)\n",
    "  - the variables `x` and `y` are saved in your environment and can be seen in the variable explorer (top right). These variables can be used again since they exist in your computer's memory.\n",
    "\n",
    ":::{.callout-warning title=\"Working directory\"}\n",
    "\n",
    "Every time you start working in `R`, this will be considering a working directory. Such directory is the *reference point* you are working in. For example, if you want to open a file, you need to know where it is *in relation to* your working directory, so that you can correctly write where it is. Write the command `getwd()` in the console and press Enter to see your current working directory.\n",
    "\n",
    ":::\n",
    "\n",
    "## Some basic operations\n",
    "\n",
    "In R you can perform basic math operations by using the appropriate symbol. For example"
   ]
  },
  {
   "cell_type": "code",
   "execution_count": 3,
   "id": "16cb7824-75a5-4189-b967-ba6b7828d953",
   "metadata": {},
   "outputs": [
    {
     "data": {
      "text/html": [
       "5"
      ],
      "text/latex": [
       "5"
      ],
      "text/markdown": [
       "5"
      ],
      "text/plain": [
       "[1] 5"
      ]
     },
     "metadata": {},
     "output_type": "display_data"
    },
    {
     "data": {
      "text/html": [
       "18"
      ],
      "text/latex": [
       "18"
      ],
      "text/markdown": [
       "18"
      ],
      "text/plain": [
       "[1] 18"
      ]
     },
     "metadata": {},
     "output_type": "display_data"
    },
    {
     "data": {
      "text/html": [
       "25"
      ],
      "text/latex": [
       "25"
      ],
      "text/markdown": [
       "25"
      ],
      "text/plain": [
       "[1] 25"
      ]
     },
     "metadata": {},
     "output_type": "display_data"
    }
   ],
   "source": [
    "2+3\n",
    "9*2\n",
    "5^2"
   ]
  },
  {
   "cell_type": "markdown",
   "id": "0d31fcdd-39f5-447c-8436-014482b52f55",
   "metadata": {},
   "source": [
    "You can assign variables (\"objects\") using the symbol `<-`. For example"
   ]
  },
  {
   "cell_type": "code",
   "execution_count": 4,
   "id": "fd9cf43a-a79a-4574-8382-7b646be45b46",
   "metadata": {},
   "outputs": [],
   "source": [
    "x <- 5\n",
    "anothername <- 3\n",
    "itCanBeAnything <- \"It can be text\""
   ]
  },
  {
   "cell_type": "markdown",
   "id": "28b7f60e-128f-4c18-8a32-a8984b077408",
   "metadata": {},
   "source": [
    "## Lets try some exercises!\n",
    "\n",
    "Create a new script file or use the console to test some exercises below.\n",
    "\n",
    "### 1. Create a data frame\n",
    "\n",
    "We will create a simple data frame. A data frame is nothing more than a table, where both rows and columns have labels, and can be easily accessed and manipulated. To create a small data frame, we can define its columns. We define each column through a vector with the function `c()`, where we can write values inside separated by a comma. Then we provide all vectors to the function `data.frame`, where we assign column names (`Gene`, `Control`, `Treatment1`, `Treatment2`)."
   ]
  },
  {
   "cell_type": "markdown",
   "id": "43b2e2cc-1245-4396-a3a6-218517aa113b",
   "metadata": {},
   "source": [
    ":::{.callout-note}\n",
    "Make sure your vectors are all of the same length! Also, each vector usually contains values of the same type (for example only numbers or only text)\n",
    ":::"
   ]
  },
  {
   "cell_type": "code",
   "execution_count": 5,
   "id": "864892f5-fdbf-4b3c-8d51-c40c4329f157",
   "metadata": {},
   "outputs": [
    {
     "data": {
      "text/html": [
       "<table class=\"dataframe\">\n",
       "<caption>A data.frame: 3 × 4</caption>\n",
       "<thead>\n",
       "\t<tr><th scope=col>Gene</th><th scope=col>Control</th><th scope=col>Treatment1</th><th scope=col>Treatment2</th></tr>\n",
       "\t<tr><th scope=col>&lt;chr&gt;</th><th scope=col>&lt;dbl&gt;</th><th scope=col>&lt;dbl&gt;</th><th scope=col>&lt;dbl&gt;</th></tr>\n",
       "</thead>\n",
       "<tbody>\n",
       "\t<tr><td>GeneA</td><td>10</td><td>15</td><td>100</td></tr>\n",
       "\t<tr><td>GeneB</td><td>20</td><td>25</td><td>  0</td></tr>\n",
       "\t<tr><td>GeneC</td><td>30</td><td>35</td><td>250</td></tr>\n",
       "</tbody>\n",
       "</table>\n"
      ],
      "text/latex": [
       "A data.frame: 3 × 4\n",
       "\\begin{tabular}{llll}\n",
       " Gene & Control & Treatment1 & Treatment2\\\\\n",
       " <chr> & <dbl> & <dbl> & <dbl>\\\\\n",
       "\\hline\n",
       "\t GeneA & 10 & 15 & 100\\\\\n",
       "\t GeneB & 20 & 25 &   0\\\\\n",
       "\t GeneC & 30 & 35 & 250\\\\\n",
       "\\end{tabular}\n"
      ],
      "text/markdown": [
       "\n",
       "A data.frame: 3 × 4\n",
       "\n",
       "| Gene &lt;chr&gt; | Control &lt;dbl&gt; | Treatment1 &lt;dbl&gt; | Treatment2 &lt;dbl&gt; |\n",
       "|---|---|---|---|\n",
       "| GeneA | 10 | 15 | 100 |\n",
       "| GeneB | 20 | 25 |   0 |\n",
       "| GeneC | 30 | 35 | 250 |\n",
       "\n"
      ],
      "text/plain": [
       "  Gene  Control Treatment1 Treatment2\n",
       "1 GeneA 10      15         100       \n",
       "2 GeneB 20      25           0       \n",
       "3 GeneC 30      35         250       "
      ]
     },
     "metadata": {},
     "output_type": "display_data"
    }
   ],
   "source": [
    "geneExpr <- data.frame(\n",
    "  Gene = c(\"GeneA\", \"GeneB\", \"GeneC\"),\n",
    "  Control = c(10, 20, 30),\n",
    "  Treatment1 = c(15, 25, 35),\n",
    "  Treatment2 = c(100, 0, 250)\n",
    ")\n",
    "\n",
    "geneExpr"
   ]
  },
  {
   "cell_type": "markdown",
   "id": "1ec10227-6ea5-45d1-9e20-fc74b1228fad",
   "metadata": {},
   "source": [
    "You should be able to see the small data frame printed in output and also shown in the variable explorer.\n",
    "\n",
    "\n",
    "### 2. Plot from a data frame\n",
    "\n",
    "Now lets try to plot it Treatment 1 versus Treatment 2. The basic function for plotting in `R` is called `plot`. It takes as arguments the x axis and the y axis. It has other options which are not mandatory, such as style and color of the plot. Notice how we access the values in the columns using the `$` sign."
   ]
  },
  {
   "cell_type": "code",
   "execution_count": 6,
   "id": "907e79d2-cd16-4cc7-a6b4-634a5b1fc3ae",
   "metadata": {},
   "outputs": [
    {
     "data": {
      "image/png": "[encoded data removed]",
      "text/plain": [
       "Plot with title \"Expression per Treatment group\""
      ]
     },
     "metadata": {
      "image/png": {
       "height": 420,
       "width": 420
      }
     },
     "output_type": "display_data"
    }
   ],
   "source": [
    "plot( x = geneExpr$Treatment1, \n",
    "      y = geneExpr$Treatment2 , \n",
    "      main=\"Expression per Treatment group\", \n",
    "      xlab = \"Treatment 1\", \n",
    "      ylab = \"Treatment 2\" , \n",
    "      col =\"blue\" , \n",
    "      type =\"b\")"
   ]
  },
  {
   "cell_type": "markdown",
   "id": "a273400c-6831-40ab-8ae3-63914d094e3d",
   "metadata": {},
   "source": [
    "You should be able to see a plot in the plotting window. In the command above we used many options beyond `x` and `y`. Can you see what they match in the plot?\n",
    "\n",
    "\n",
    "### 3. Summary statistics\n",
    "\n",
    "There are lots of summary statistics already implemented in `R`. Below we calculate mean, median and standard deviation for the column `Treatment1` of the data frame and then we print them. "
   ]
  },
  {
   "cell_type": "code",
   "execution_count": 7,
   "id": "788f3716-2950-462f-ae9b-967ef3ac0004",
   "metadata": {},
   "outputs": [
    {
     "name": "stdout",
     "output_type": "stream",
     "text": [
      "[1] \"mean, median and sd:\"\n",
      "[1] 25 25 10\n"
     ]
    }
   ],
   "source": [
    "x <- geneExpr$Treatment1\n",
    "meanTr1 <- mean(x)\n",
    "medianTr1 <- median(x)\n",
    "sdTr1 <- sd(x)\n",
    "\n",
    "print(\"mean, median and sd:\")\n",
    "print(c(meanTr1, medianTr1, sdTr1))"
   ]
  },
  {
   "cell_type": "markdown",
   "id": "23400758-4424-4025-9eeb-e1870cd8d794",
   "metadata": {},
   "source": [
    "This was neat! Can you try to calculate the cumulative sum of the difference between Treatment 1 and Treatment 2?"
   ]
  },
  {
   "cell_type": "markdown",
   "id": "9bab9c56-32ae-4608-b03e-692e5413c7ab",
   "metadata": {},
   "source": [
    ":::{.callout-tip collapse=\"true\" title=\"Answer\"}"
   ]
  },
  {
   "cell_type": "code",
   "execution_count": 8,
   "id": "ea5c57dd-d7b0-4c9a-9fe7-58af2c9e7136",
   "metadata": {},
   "outputs": [
    {
     "name": "stdout",
     "output_type": "stream",
     "text": [
      "[1] \"cumulative sum of Tr1 - Tr2:\"\n",
      "[1]  -85  -60 -275\n"
     ]
    }
   ],
   "source": [
    "x <- geneExpr$Treatment1 - geneExpr$Treatment2\n",
    "csum <- cumsum(x)\n",
    "print(\"cumulative sum of Tr1 - Tr2:\")\n",
    "print(csum)"
   ]
  },
  {
   "cell_type": "markdown",
   "id": "e9848ce5-d414-4783-abee-6288b18c4a7f",
   "metadata": {},
   "source": [
    ":::"
   ]
  },
  {
   "cell_type": "markdown",
   "id": "7d8bdfc9-49fe-4b36-9c30-f350b7b8093f",
   "metadata": {},
   "source": [
    "### 4. Define your own function!\n",
    "\n",
    "Although R and the packages you can find have almost everything you will need, sometimes you might need to define your own function. The syntax to do it is very easy: you assign a function to a name, which then you will be able to use. Below, there is a function taking an argument (`arg1`) and multiplying it by 5. The function commands need to be between the curly brackets, and what we want as output need to be explicit through the `return()` function."
   ]
  },
  {
   "cell_type": "code",
   "execution_count": 9,
   "id": "4ffd2b5f-3761-4fd3-9353-11da3a1596e0",
   "metadata": {},
   "outputs": [],
   "source": [
    "myFunction <- function(arg1){\n",
    "  \n",
    "  # Now arg1 is a variable of the function. \n",
    "  # You can write comments inside code blocks with #\n",
    "  output <- arg1 * 5\n",
    "  return (output)\n",
    "\n",
    "}"
   ]
  },
  {
   "cell_type": "markdown",
   "id": "a6356c54-2ef5-46af-8a6c-dd37509b0771",
   "metadata": {},
   "source": [
    "Such a function works if the argument is a number, but also if it is a vector!"
   ]
  },
  {
   "cell_type": "code",
   "execution_count": 10,
   "id": "ca05150c-636c-4e8b-9a8b-d51f93fcbb7b",
   "metadata": {},
   "outputs": [
    {
     "name": "stdout",
     "output_type": "stream",
     "text": [
      "[1] \"with a number only\"\n"
     ]
    },
    {
     "data": {
      "text/html": [
       "25"
      ],
      "text/latex": [
       "25"
      ],
      "text/markdown": [
       "25"
      ],
      "text/plain": [
       "[1] 25"
      ]
     },
     "metadata": {},
     "output_type": "display_data"
    },
    {
     "name": "stdout",
     "output_type": "stream",
     "text": [
      "[1] \"with a vector\"\n"
     ]
    },
    {
     "data": {
      "text/html": [
       "<style>\n",
       ".list-inline {list-style: none; margin:0; padding: 0}\n",
       ".list-inline>li {display: inline-block}\n",
       ".list-inline>li:not(:last-child)::after {content: \"\\00b7\"; padding: 0 .5ex}\n",
       "</style>\n",
       "<ol class=list-inline><li>75</li><li>125</li><li>175</li></ol>\n"
      ],
      "text/latex": [
       "\\begin{enumerate*}\n",
       "\\item 75\n",
       "\\item 125\n",
       "\\item 175\n",
       "\\end{enumerate*}\n"
      ],
      "text/markdown": [
       "1. 75\n",
       "2. 125\n",
       "3. 175\n",
       "\n",
       "\n"
      ],
      "text/plain": [
       "[1]  75 125 175"
      ]
     },
     "metadata": {},
     "output_type": "display_data"
    }
   ],
   "source": [
    "print(\"with a number only\")\n",
    "myFunction(5)\n",
    "print(\"with a vector\")\n",
    "myFunction(geneExpr$Treatment1)"
   ]
  },
  {
   "cell_type": "markdown",
   "id": "d8c0d781-5861-4550-a161-3e5bd295984c",
   "metadata": {},
   "source": [
    "Try to make a function that takes three vectors, plots the first against the sum of the second and third, and returns the sum of all three vectors. Use the plot command we applied previously for help."
   ]
  },
  {
   "cell_type": "markdown",
   "id": "937ea5e6-0d6d-4088-9b18-f3fc5053c71f",
   "metadata": {},
   "source": [
    ":::{.callout-tip collapse=\"true\" title=\"Answer\"}\n"
   ]
  },
  {
   "cell_type": "code",
   "execution_count": 11,
   "id": "16222e25-7a7b-46b7-bcaf-4da626f7cab5",
   "metadata": {},
   "outputs": [],
   "source": [
    "simpleSumPlot <- function (arg1, arg2, arg3){\n",
    "  \n",
    "  arg23 <- arg2 + arg3\n",
    "  arg123 <- arg1 + arg2 + arg3\n",
    "\n",
    "  #plotting\n",
    "  plot( x = arg1, \n",
    "      y = arg23, \n",
    "      main=\"Plot with my own function\", \n",
    "      xlab = \"arg1\", \n",
    "      ylab = \"arg2+arg3\" , \n",
    "      col =\"red\", \n",
    "      type =\"o\" )\n",
    "\n",
    "  return (arg123)\n",
    "  \n",
    "}"
   ]
  },
  {
   "cell_type": "markdown",
   "id": "5e105c41-1d1a-4bbf-9f5b-3ef66a3e2220",
   "metadata": {},
   "source": [
    "Now you can try this on vectors **of the same length**. We can use the ones in our data frame!"
   ]
  },
  {
   "cell_type": "code",
   "execution_count": 12,
   "id": "7b1c6985-7022-4232-9803-f7d658433278",
   "metadata": {},
   "outputs": [
    {
     "data": {
      "text/html": [
       "<style>\n",
       ".list-inline {list-style: none; margin:0; padding: 0}\n",
       ".list-inline>li {display: inline-block}\n",
       ".list-inline>li:not(:last-child)::after {content: \"\\00b7\"; padding: 0 .5ex}\n",
       "</style>\n",
       "<ol class=list-inline><li>125</li><li>45</li><li>315</li></ol>\n"
      ],
      "text/latex": [
       "\\begin{enumerate*}\n",
       "\\item 125\n",
       "\\item 45\n",
       "\\item 315\n",
       "\\end{enumerate*}\n"
      ],
      "text/markdown": [
       "1. 125\n",
       "2. 45\n",
       "3. 315\n",
       "\n",
       "\n"
      ],
      "text/plain": [
       "[1] 125  45 315"
      ]
     },
     "metadata": {},
     "output_type": "display_data"
    },
    {
     "data": {
      "image/png": "[encoded data removed]",
      "text/plain": [
       "Plot with title \"Plot with my own function\""
      ]
     },
     "metadata": {
      "image/png": {
       "height": 420,
       "width": 420
      }
     },
     "output_type": "display_data"
    }
   ],
   "source": [
    "simpleSumPlot(arg1=geneExpr$Control, \n",
    "              arg2=geneExpr$Treatment1, \n",
    "              arg3=geneExpr$Treatment2)"
   ]
  },
  {
   "cell_type": "markdown",
   "id": "fbc9e75f-fc6b-499d-9c95-0250c19f6646",
   "metadata": {},
   "source": [
    ":::"
   ]
  },
  {
   "cell_type": "markdown",
   "id": "cb43f81f-cf6f-4183-9f43-5459c7ef84fc",
   "metadata": {},
   "source": [
    "### 5. Read files\n",
    "\n",
    "\n",
    "Many times we want to read files from excel or other formats. R has many ways to do this and if not there are always packages out there to help you read the format you have.\n",
    "For reading an excel file a great package is the `readxl`. To read a `csv` file there is already the `R` function `read.csv()`.\n",
    "\n",
    "\n",
    ":::{.callout-note}\n",
    "\n",
    "**But wait. what are packages?** Each package consist of a set of `R` and other scripts that meet specific needs for the users of `R`. For example `openxlsx` reads from Excel files, which `R` cannot do on its own. There are thousands of packages out there, ranging all fields of science, and some have become very popular.\n",
    "\n",
    ":::\n",
    "\n",
    "Try to install the package `openxlsx`. You can use the command `install.packages(\"openxlsx\")` in your RStudio console. Otherwise, go on the bottom right panel and click `Packages` and `Install` like this\n",
    "\n",
    "<img src=\"./2024-06-13-instR/images/installpackage.png\" alt=\"Installing Packages\" width=\"1000\">\n",
    "\n",
    "Now you are ready to import an Excel file. To use the package, we can load it with `library(openxlsx)`. Otherwise we need to write the package name before the command to use from it (as done below). You can get a file locally on your computer or from an URL as done in this example."
   ]
  },
  {
   "cell_type": "code",
   "execution_count": 13,
   "id": "24cb3e3c-1343-42f9-91a3-d6b282dbb6e6",
   "metadata": {},
   "outputs": [
    {
     "data": {
      "text/html": [
       "<table class=\"dataframe\">\n",
       "<caption>A data.frame: 3 × 3</caption>\n",
       "<thead>\n",
       "\t<tr><th></th><th scope=col>x</th><th scope=col>y</th><th scope=col>z</th></tr>\n",
       "\t<tr><th></th><th scope=col>&lt;dbl&gt;</th><th scope=col>&lt;dbl&gt;</th><th scope=col>&lt;dbl&gt;</th></tr>\n",
       "</thead>\n",
       "<tbody>\n",
       "\t<tr><th scope=row>1</th><td>10</td><td>30</td><td>-1</td></tr>\n",
       "\t<tr><th scope=row>2</th><td>20</td><td>20</td><td> 0</td></tr>\n",
       "\t<tr><th scope=row>3</th><td>30</td><td>10</td><td> 1</td></tr>\n",
       "</tbody>\n",
       "</table>\n"
      ],
      "text/latex": [
       "A data.frame: 3 × 3\n",
       "\\begin{tabular}{r|lll}\n",
       "  & x & y & z\\\\\n",
       "  & <dbl> & <dbl> & <dbl>\\\\\n",
       "\\hline\n",
       "\t1 & 10 & 30 & -1\\\\\n",
       "\t2 & 20 & 20 &  0\\\\\n",
       "\t3 & 30 & 10 &  1\\\\\n",
       "\\end{tabular}\n"
      ],
      "text/markdown": [
       "\n",
       "A data.frame: 3 × 3\n",
       "\n",
       "| <!--/--> | x &lt;dbl&gt; | y &lt;dbl&gt; | z &lt;dbl&gt; |\n",
       "|---|---|---|---|\n",
       "| 1 | 10 | 30 | -1 |\n",
       "| 2 | 20 | 20 |  0 |\n",
       "| 3 | 30 | 10 |  1 |\n",
       "\n"
      ],
      "text/plain": [
       "  x  y  z \n",
       "1 10 30 -1\n",
       "2 20 20  0\n",
       "3 30 10  1"
      ]
     },
     "metadata": {},
     "output_type": "display_data"
    }
   ],
   "source": [
    "df <- openxlsx::read.xlsx(\"https://github.com/AU-ABC/AU-ABC.github.io/raw/main/documentation/2024-06-13-instR/data/data.xlsx\", sheet=1)\n",
    "df"
   ]
  },
  {
   "cell_type": "markdown",
   "id": "d03c0952-7f67-45dd-8b39-7003d9062c8f",
   "metadata": {},
   "source": [
    "Once you have a data frame, you can always save it. Remember, the path of the saved file is related to your current working directory! To save your data frame as a `csv` file, use"
   ]
  },
  {
   "cell_type": "code",
   "execution_count": 14,
   "id": "60964436-159c-4ecf-810e-4b95028b4f89",
   "metadata": {},
   "outputs": [],
   "source": [
    "write.table(geneExpr, \n",
    "            file = \"./myFirstDataFrame.csv\", \n",
    "            row.names = FALSE , \n",
    "            sep=\"\\t\")"
   ]
  },
  {
   "cell_type": "markdown",
   "id": "f1a25cfe-08ec-463f-9ce2-4b4c1dfe673c",
   "metadata": {},
   "source": [
    "where we remove the labels for the rows and use the tab separator instead of the comma. To read the file again, simply use"
   ]
  },
  {
   "cell_type": "code",
   "execution_count": 15,
   "id": "d61bc60d-94ea-431a-9486-550321b761d7",
   "metadata": {},
   "outputs": [
    {
     "data": {
      "text/html": [
       "<table class=\"dataframe\">\n",
       "<caption>A data.frame: 3 × 4</caption>\n",
       "<thead>\n",
       "\t<tr><th scope=col>Gene</th><th scope=col>Control</th><th scope=col>Treatment1</th><th scope=col>Treatment2</th></tr>\n",
       "\t<tr><th scope=col>&lt;chr&gt;</th><th scope=col>&lt;int&gt;</th><th scope=col>&lt;int&gt;</th><th scope=col>&lt;int&gt;</th></tr>\n",
       "</thead>\n",
       "<tbody>\n",
       "\t<tr><td>GeneA</td><td>10</td><td>15</td><td>100</td></tr>\n",
       "\t<tr><td>GeneB</td><td>20</td><td>25</td><td>  0</td></tr>\n",
       "\t<tr><td>GeneC</td><td>30</td><td>35</td><td>250</td></tr>\n",
       "</tbody>\n",
       "</table>\n"
      ],
      "text/latex": [
       "A data.frame: 3 × 4\n",
       "\\begin{tabular}{llll}\n",
       " Gene & Control & Treatment1 & Treatment2\\\\\n",
       " <chr> & <int> & <int> & <int>\\\\\n",
       "\\hline\n",
       "\t GeneA & 10 & 15 & 100\\\\\n",
       "\t GeneB & 20 & 25 &   0\\\\\n",
       "\t GeneC & 30 & 35 & 250\\\\\n",
       "\\end{tabular}\n"
      ],
      "text/markdown": [
       "\n",
       "A data.frame: 3 × 4\n",
       "\n",
       "| Gene &lt;chr&gt; | Control &lt;int&gt; | Treatment1 &lt;int&gt; | Treatment2 &lt;int&gt; |\n",
       "|---|---|---|---|\n",
       "| GeneA | 10 | 15 | 100 |\n",
       "| GeneB | 20 | 25 |   0 |\n",
       "| GeneC | 30 | 35 | 250 |\n",
       "\n"
      ],
      "text/plain": [
       "  Gene  Control Treatment1 Treatment2\n",
       "1 GeneA 10      15         100       \n",
       "2 GeneB 20      25           0       \n",
       "3 GeneC 30      35         250       "
      ]
     },
     "metadata": {},
     "output_type": "display_data"
    }
   ],
   "source": [
    "df2 <- read.csv(\"./myFirstDataFrame.csv\" , sep=\"\\t\")\n",
    "df2"
   ]
  },
  {
   "cell_type": "markdown",
   "id": "1fc0a4c4-165c-4b3d-a32e-ac797e53dff8",
   "metadata": {},
   "source": [
    ":::{.callout-tip}\n",
    "\n",
    "You can use the tab key of your keyboard to see a list of the available paths \n",
    "\n",
    ":::"
   ]
  },
  {
   "cell_type": "markdown",
   "id": "dff4d1a8-5fa3-46aa-81e6-a461bb4913c7",
   "metadata": {},
   "source": []
  },
  {
   "cell_type": "code",
   "execution_count": null,
   "id": "1f78120c-096a-4410-a1ca-3c2161a9a0b7",
   "metadata": {},
   "outputs": [],
   "source": []
  }
 ],
 "metadata": {
  "kernelspec": {
   "display_name": "R",
   "language": "R",
   "name": "ir"
  },
  "language_info": {
   "codemirror_mode": "r",
   "file_extension": ".r",
   "mimetype": "text/x-r-source",
   "name": "R",
   "pygments_lexer": "r",
   "version": "4.1.3"
  }
 },
 "nbformat": 4,
 "nbformat_minor": 5
}
