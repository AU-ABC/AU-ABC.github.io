{
 "cells": [
  {
   "cell_type": "markdown",
   "metadata": {},
   "source": [
    "---\n",
    "title: \"ABC.3: R analysis of bulkRNA expression matrix\"\n",
    "author: \"Jacob Egemose Høgfeldt\"\n",
    "image: ./2024-08-20/rnaseq.png\n",
    "date: 2024-08-20\n",
    "categories: [R, bulkRNA]\n",
    "description: \"Things worth remembering from the ABC.3\"\n",
    "eval: true\n",
    "---\n",
    "\n",
    "# Slides\n",
    "\n",
    "Data formats and bulkRNA sequencing exercise\n",
    "\n",
    "&nbsp;\n",
    "\n",
    " <p align=\"center\">\n",
    "  <a href=\"https://abc.au.dk/documentation/slides/20240820-ABC.3.zip\" style=\"background-color: #4266A1; color: #FFFFFF; padding: 30px 20px; text-decoration: none; border-radius: 5px;\">\n",
    "    Download Slides\n",
    "  </a>\n",
    "</p>\n",
    "\n",
    "&nbsp;\n",
    "\n",
    "# Tutorial\n",
    "\n",
    "The following tutorial shows how to do read an expression matrix from a test file and prepare it for bulkRNA analysis with DeSeq2. Further analysis with DeSeq2 will be into another tutorial at future ABC sessions.\n",
    "\n",
    "## Install packages\n",
    "\n",
    "First of all you need quite some packages for bulkRNA analysis. The following installations will also help in the fiture analysis tutorial where various different plots are explored. Note how you install some packages with `install.packages` (from the R default channel) and with `BiocManager::install` (from the BiocManager channel).\"\n",
    "\n",
    "\n",
    "\n"
   ]
  },
  {
   "cell_type": "code",
   "execution_count": 1,
   "metadata": {
    "scrolled": true
   },
   "outputs": [
    {
     "name": "stderr",
     "output_type": "stream",
     "text": [
      "Warning message:\n",
      "\"dependencies 'MASS', 'Matrix' are not available\"\n",
      "also installing the dependencies 'lattice', 'colorspace', 'nlme', 'farver', 'labeling', 'munsell', 'RColorBrewer', 'viridisLite', 'gtable', 'isoband', 'mgcv', 'scales'\n",
      "\n",
      "\n"
     ]
    },
    {
     "name": "stdout",
     "output_type": "stream",
     "text": [
      "\n",
      "  There are binary versions available but the source versions are later:\n",
      "             binary  source needs_compilation\n",
      "lattice      0.21-8  0.22-6              TRUE\n",
      "colorspace    2.1-0   2.1-1              TRUE\n",
      "nlme        3.1-162 3.1-166              TRUE\n",
      "farver        2.1.1   2.1.2              TRUE\n",
      "labeling      0.4.2   0.4.3             FALSE\n",
      "munsell       0.5.0   0.5.1             FALSE\n",
      "viridisLite   0.4.1   0.4.2             FALSE\n",
      "gtable        0.3.3   0.3.5             FALSE\n",
      "mgcv         1.8-42   1.9-1              TRUE\n",
      "scales        1.2.1   1.3.0              TRUE\n",
      "ggplot2       3.4.2   3.5.1             FALSE\n",
      "\n",
      "  Binaries will be installed\n",
      "package 'lattice' successfully unpacked and MD5 sums checked\n",
      "package 'colorspace' successfully unpacked and MD5 sums checked\n",
      "package 'nlme' successfully unpacked and MD5 sums checked\n",
      "package 'farver' successfully unpacked and MD5 sums checked\n",
      "package 'RColorBrewer' successfully unpacked and MD5 sums checked\n",
      "package 'isoband' successfully unpacked and MD5 sums checked\n",
      "package 'mgcv' successfully unpacked and MD5 sums checked\n",
      "package 'scales' successfully unpacked and MD5 sums checked\n",
      "\n",
      "The downloaded binary packages are in\n",
      "\tC:\\Users\\au612681\\AppData\\Local\\Temp\\RtmpQdhH32\\downloaded_packages\n"
     ]
    },
    {
     "name": "stderr",
     "output_type": "stream",
     "text": [
      "installing the source packages 'labeling', 'munsell', 'viridisLite', 'gtable', 'ggplot2'\n",
      "\n",
      "\n",
      "Warning message in install.packages(\"ggplot2\"):\n",
      "\"installation of package 'ggplot2' had non-zero exit status\"\n"
     ]
    },
    {
     "name": "stdout",
     "output_type": "stream",
     "text": [
      "package 'pheatmap' successfully unpacked and MD5 sums checked\n",
      "\n",
      "The downloaded binary packages are in\n",
      "\tC:\\Users\\au612681\\AppData\\Local\\Temp\\RtmpQdhH32\\downloaded_packages\n"
     ]
    },
    {
     "name": "stderr",
     "output_type": "stream",
     "text": [
      "Warning message:\n",
      "\"dependency 'MASS' is not available\"\n",
      "also installing the dependencies 'scales', 'ggplot2', 'Rcpp'\n",
      "\n",
      "\n"
     ]
    },
    {
     "name": "stdout",
     "output_type": "stream",
     "text": [
      "\n",
      "  There are binary versions available but the source versions are later:\n",
      "        binary source needs_compilation\n",
      "scales   1.2.1  1.3.0              TRUE\n",
      "ggplot2  3.4.2  3.5.1             FALSE\n",
      "Rcpp    1.0.10 1.0.13              TRUE\n",
      "ggrepel  0.9.3  0.9.5              TRUE\n",
      "\n",
      "  Binaries will be installed\n",
      "package 'scales' successfully unpacked and MD5 sums checked\n",
      "package 'Rcpp' successfully unpacked and MD5 sums checked\n",
      "package 'ggrepel' successfully unpacked and MD5 sums checked\n",
      "\n",
      "The downloaded binary packages are in\n",
      "\tC:\\Users\\au612681\\AppData\\Local\\Temp\\RtmpQdhH32\\downloaded_packages\n"
     ]
    },
    {
     "name": "stderr",
     "output_type": "stream",
     "text": [
      "installing the source package 'ggplot2'\n",
      "\n",
      "\n",
      "Warning message in install.packages(\"ggrepel\"):\n",
      "\"installation of package 'ggplot2' had non-zero exit status\"\n",
      "also installing the dependencies 'stringi', 'zip'\n",
      "\n",
      "\n"
     ]
    },
    {
     "name": "stdout",
     "output_type": "stream",
     "text": [
      "\n",
      "  There are binary versions available but the source versions are later:\n",
      "          binary  source needs_compilation\n",
      "stringi   1.7.12   1.8.4              TRUE\n",
      "zip        2.3.0   2.3.1              TRUE\n",
      "openxlsx 4.2.5.2 4.2.6.1              TRUE\n",
      "\n",
      "  Binaries will be installed\n",
      "package 'stringi' successfully unpacked and MD5 sums checked\n",
      "package 'zip' successfully unpacked and MD5 sums checked\n",
      "package 'openxlsx' successfully unpacked and MD5 sums checked\n",
      "\n",
      "The downloaded binary packages are in\n",
      "\tC:\\Users\\au612681\\AppData\\Local\\Temp\\RtmpQdhH32\\downloaded_packages\n"
     ]
    },
    {
     "name": "stderr",
     "output_type": "stream",
     "text": [
      "also installing the dependencies 'rematch', 'hms', 'prettyunits', 'cellranger', 'cpp11', 'progress'\n",
      "\n",
      "\n"
     ]
    },
    {
     "name": "stdout",
     "output_type": "stream",
     "text": [
      "\n",
      "  There are binary versions available but the source versions are later:\n",
      "            binary source needs_compilation\n",
      "rematch      1.0.1  2.0.0             FALSE\n",
      "prettyunits  1.1.1  1.2.0             FALSE\n",
      "cpp11        0.4.3  0.4.7             FALSE\n",
      "progress     1.2.2  1.2.3             FALSE\n",
      "readxl       1.4.2  1.4.3              TRUE\n",
      "\n",
      "  Binaries will be installed\n",
      "package 'hms' successfully unpacked and MD5 sums checked\n",
      "package 'cellranger' successfully unpacked and MD5 sums checked\n",
      "package 'readxl' successfully unpacked and MD5 sums checked\n",
      "\n",
      "The downloaded binary packages are in\n",
      "\tC:\\Users\\au612681\\AppData\\Local\\Temp\\RtmpQdhH32\\downloaded_packages\n"
     ]
    },
    {
     "name": "stderr",
     "output_type": "stream",
     "text": [
      "installing the source packages 'rematch', 'prettyunits', 'cpp11', 'progress'\n",
      "\n",
      "\n",
      "Warning message:\n",
      "\"dependency 'MASS' is not available\"\n",
      "also installing the dependencies 'sys', 'bit', 'ps', 'sass', 'cachem', 'rappdirs', 'askpass', 'bit64', 'processx', 'highr', 'xfun', 'yaml', 'bslib', 'fontawesome', 'jquerylib', 'tinytex', 'backports', 'memoise', 'blob', 'DBI', 'tidyselect', 'data.table', 'scales', 'gargle', 'curl', 'ids', 'rematch2', 'mime', 'openssl', 'timechange', 'systemfonts', 'textshaping', 'clipr', 'vroom', 'tzdb', 'callr', 'fs', 'knitr', 'rmarkdown', 'selectr', 'broom', 'conflicted', 'dbplyr', 'dtplyr', 'forcats', 'ggplot2', 'googledrive', 'googlesheets4', 'haven', 'httr', 'lubridate', 'modelr', 'purrr', 'ragg', 'readr', 'reprex', 'rstudioapi', 'rvest', 'stringr', 'tidyr', 'xml2'\n",
      "\n",
      "\n"
     ]
    },
    {
     "name": "stdout",
     "output_type": "stream",
     "text": [
      "\n",
      "  There are binary versions available but the source versions are later:\n",
      "              binary source needs_compilation\n",
      "sys            3.4.1  3.4.2              TRUE\n",
      "ps             1.7.5  1.7.7              TRUE\n",
      "sass           0.4.5  0.4.9              TRUE\n",
      "cachem         1.0.7  1.1.0              TRUE\n",
      "askpass          1.1  1.2.0              TRUE\n",
      "processx       3.8.1  3.8.4              TRUE\n",
      "highr           0.10   0.11             FALSE\n",
      "xfun            0.39   0.47              TRUE\n",
      "yaml           2.3.7 2.3.10              TRUE\n",
      "bslib          0.4.2  0.8.0             FALSE\n",
      "fontawesome    0.5.1  0.5.2             FALSE\n",
      "tinytex         0.45   0.52             FALSE\n",
      "backports      1.4.1  1.5.0              TRUE\n",
      "DBI            1.1.3  1.2.3             FALSE\n",
      "tidyselect     1.2.0  1.2.1              TRUE\n",
      "data.table    1.14.8 1.15.4              TRUE\n",
      "scales         1.2.1  1.3.0              TRUE\n",
      "gargle         1.4.0  1.5.2             FALSE\n",
      "curl           5.0.0  5.2.1              TRUE\n",
      "openssl        2.0.6  2.2.1              TRUE\n",
      "timechange     0.2.0  0.3.0              TRUE\n",
      "systemfonts    1.0.4  1.1.0              TRUE\n",
      "textshaping    0.3.6  0.4.0              TRUE\n",
      "vroom          1.6.1  1.6.5              TRUE\n",
      "tzdb           0.3.0  0.4.0              TRUE\n",
      "callr          3.7.3  3.7.6             FALSE\n",
      "fs             1.5.2  1.6.4              TRUE\n",
      "knitr           1.42   1.48             FALSE\n",
      "rmarkdown       2.21   2.28             FALSE\n",
      "broom          1.0.4  1.0.6             FALSE\n",
      "dbplyr         2.3.2  2.5.0             FALSE\n",
      "ggplot2        3.4.2  3.5.1             FALSE\n",
      "googledrive    2.1.0  2.1.1             FALSE\n",
      "googlesheets4  1.1.0  1.1.1             FALSE\n",
      "haven          2.5.2  2.5.4              TRUE\n",
      "httr           1.4.5  1.4.7             FALSE\n",
      "lubridate      1.9.2  1.9.3              TRUE\n",
      "purrr          1.0.1  1.0.2              TRUE\n",
      "ragg           1.2.5  1.3.2              TRUE\n",
      "readr          2.1.4  2.1.5              TRUE\n",
      "reprex         2.0.2  2.1.1             FALSE\n",
      "rstudioapi      0.14 0.16.0             FALSE\n",
      "rvest          1.0.3  1.0.4             FALSE\n",
      "stringr        1.5.0  1.5.1             FALSE\n",
      "tidyr          1.3.0  1.3.1              TRUE\n",
      "xml2           1.3.3  1.3.6              TRUE\n",
      "\n",
      "  Binaries will be installed\n",
      "package 'sys' successfully unpacked and MD5 sums checked\n",
      "package 'bit' successfully unpacked and MD5 sums checked\n",
      "package 'ps' successfully unpacked and MD5 sums checked\n",
      "package 'sass' successfully unpacked and MD5 sums checked\n",
      "package 'cachem' successfully unpacked and MD5 sums checked\n",
      "package 'rappdirs' successfully unpacked and MD5 sums checked\n",
      "package 'askpass' successfully unpacked and MD5 sums checked\n",
      "package 'bit64' successfully unpacked and MD5 sums checked\n",
      "package 'processx' successfully unpacked and MD5 sums checked\n",
      "package 'xfun' successfully unpacked and MD5 sums checked\n",
      "package 'yaml' successfully unpacked and MD5 sums checked\n",
      "package 'jquerylib' successfully unpacked and MD5 sums checked\n",
      "package 'backports' successfully unpacked and MD5 sums checked\n",
      "package 'memoise' successfully unpacked and MD5 sums checked\n",
      "package 'blob' successfully unpacked and MD5 sums checked\n",
      "package 'tidyselect' successfully unpacked and MD5 sums checked\n",
      "package 'data.table' successfully unpacked and MD5 sums checked\n",
      "package 'scales' successfully unpacked and MD5 sums checked\n",
      "package 'curl' successfully unpacked and MD5 sums checked\n",
      "package 'ids' successfully unpacked and MD5 sums checked\n",
      "package 'rematch2' successfully unpacked and MD5 sums checked\n",
      "package 'mime' successfully unpacked and MD5 sums checked\n",
      "package 'openssl' successfully unpacked and MD5 sums checked\n",
      "package 'timechange' successfully unpacked and MD5 sums checked\n",
      "package 'systemfonts' successfully unpacked and MD5 sums checked\n",
      "package 'textshaping' successfully unpacked and MD5 sums checked\n",
      "package 'clipr' successfully unpacked and MD5 sums checked\n",
      "package 'vroom' successfully unpacked and MD5 sums checked\n",
      "package 'tzdb' successfully unpacked and MD5 sums checked\n",
      "package 'fs' successfully unpacked and MD5 sums checked\n",
      "package 'selectr' successfully unpacked and MD5 sums checked\n",
      "package 'conflicted' successfully unpacked and MD5 sums checked\n",
      "package 'dtplyr' successfully unpacked and MD5 sums checked\n",
      "package 'forcats' successfully unpacked and MD5 sums checked\n",
      "package 'haven' successfully unpacked and MD5 sums checked\n",
      "package 'lubridate' successfully unpacked and MD5 sums checked\n",
      "package 'modelr' successfully unpacked and MD5 sums checked\n",
      "package 'purrr' successfully unpacked and MD5 sums checked\n",
      "package 'ragg' successfully unpacked and MD5 sums checked\n",
      "package 'readr' successfully unpacked and MD5 sums checked\n",
      "package 'tidyr' successfully unpacked and MD5 sums checked\n",
      "package 'xml2' successfully unpacked and MD5 sums checked\n",
      "package 'tidyverse' successfully unpacked and MD5 sums checked\n",
      "\n",
      "The downloaded binary packages are in\n",
      "\tC:\\Users\\au612681\\AppData\\Local\\Temp\\RtmpQdhH32\\downloaded_packages\n"
     ]
    },
    {
     "name": "stderr",
     "output_type": "stream",
     "text": [
      "installing the source packages 'highr', 'bslib', 'fontawesome', 'tinytex', 'DBI', 'gargle', 'callr', 'knitr', 'rmarkdown', 'broom', 'dbplyr', 'ggplot2', 'googledrive', 'googlesheets4', 'httr', 'reprex', 'rstudioapi', 'rvest', 'stringr'\n",
      "\n",
      "\n",
      "Warning message in install.packages(\"tidyverse\"):\n",
      "\"installation of package 'bslib' had non-zero exit status\"\n",
      "Warning message in install.packages(\"tidyverse\"):\n",
      "\"installation of package 'ggplot2' had non-zero exit status\"\n",
      "Warning message in install.packages(\"tidyverse\"):\n",
      "\"installation of package 'knitr' had non-zero exit status\"\n",
      "Warning message in install.packages(\"tidyverse\"):\n",
      "\"installation of package 'dbplyr' had non-zero exit status\"\n",
      "Warning message in install.packages(\"tidyverse\"):\n",
      "\"installation of package 'rmarkdown' had non-zero exit status\"\n",
      "Warning message in install.packages(\"tidyverse\"):\n",
      "\"installation of package 'reprex' had non-zero exit status\"\n"
     ]
    },
    {
     "name": "stdout",
     "output_type": "stream",
     "text": [
      "package 'RColorBrewer' successfully unpacked and MD5 sums checked\n",
      "\n",
      "The downloaded binary packages are in\n",
      "\tC:\\Users\\au612681\\AppData\\Local\\Temp\\RtmpQdhH32\\downloaded_packages\n"
     ]
    },
    {
     "name": "stderr",
     "output_type": "stream",
     "text": [
      "also installing the dependency 'qpdf'\n",
      "\n",
      "\n"
     ]
    },
    {
     "name": "stdout",
     "output_type": "stream",
     "text": [
      "\n",
      "  There are binary versions available but the source versions are later:\n",
      "         binary source needs_compilation\n",
      "qpdf      1.3.2  1.3.3              TRUE\n",
      "pdftools  3.3.3  3.4.0              TRUE\n",
      "\n",
      "  Binaries will be installed\n",
      "package 'qpdf' successfully unpacked and MD5 sums checked\n",
      "package 'pdftools' successfully unpacked and MD5 sums checked\n",
      "\n",
      "The downloaded binary packages are in\n",
      "\tC:\\Users\\au612681\\AppData\\Local\\Temp\\RtmpQdhH32\\downloaded_packages\n",
      "\n",
      "  There is a binary version available but the source version is later:\n",
      "      binary source needs_compilation\n",
      "dplyr  1.1.2  1.1.4              TRUE\n",
      "\n",
      "  Binaries will be installed\n",
      "package 'dplyr' successfully unpacked and MD5 sums checked\n",
      "\n",
      "The downloaded binary packages are in\n",
      "\tC:\\Users\\au612681\\AppData\\Local\\Temp\\RtmpQdhH32\\downloaded_packages\n"
     ]
    },
    {
     "name": "stderr",
     "output_type": "stream",
     "text": [
      "Warning message:\n",
      "\"dependency 'MASS' is not available\"\n",
      "also installing the dependencies 'scales', 'ggplot2'\n",
      "\n",
      "\n"
     ]
    },
    {
     "name": "stdout",
     "output_type": "stream",
     "text": [
      "\n",
      "  There are binary versions available but the source versions are later:\n",
      "         binary source needs_compilation\n",
      "scales    1.2.1  1.3.0              TRUE\n",
      "ggplot2   3.4.2  3.5.1             FALSE\n",
      "ggridges  0.5.4  0.5.6             FALSE\n",
      "\n",
      "  Binaries will be installed\n",
      "package 'scales' successfully unpacked and MD5 sums checked\n",
      "\n",
      "The downloaded binary packages are in\n",
      "\tC:\\Users\\au612681\\AppData\\Local\\Temp\\RtmpQdhH32\\downloaded_packages\n"
     ]
    },
    {
     "name": "stderr",
     "output_type": "stream",
     "text": [
      "installing the source packages 'ggplot2', 'ggridges'\n",
      "\n",
      "\n",
      "Warning message in install.packages(\"ggridges\"):\n",
      "\"installation of package 'ggplot2' had non-zero exit status\"\n",
      "Warning message in install.packages(\"ggridges\"):\n",
      "\"installation of package 'ggridges' had non-zero exit status\"\n"
     ]
    },
    {
     "name": "stdout",
     "output_type": "stream",
     "text": [
      "package 'forcats' successfully unpacked and MD5 sums checked\n",
      "\n",
      "The downloaded binary packages are in\n",
      "\tC:\\Users\\au612681\\AppData\\Local\\Temp\\RtmpQdhH32\\downloaded_packages\n"
     ]
    },
    {
     "name": "stderr",
     "output_type": "stream",
     "text": [
      "Warning message:\n",
      "\"dependency 'Matrix' is not available\"\n"
     ]
    },
    {
     "name": "stdout",
     "output_type": "stream",
     "text": [
      "\n",
      "  There is a binary version available but the source version is later:\n",
      "       binary source needs_compilation\n",
      "igraph  1.4.2  2.0.3              TRUE\n",
      "\n",
      "  Binaries will be installed\n",
      "package 'igraph' successfully unpacked and MD5 sums checked\n",
      "\n",
      "The downloaded binary packages are in\n",
      "\tC:\\Users\\au612681\\AppData\\Local\\Temp\\RtmpQdhH32\\downloaded_packages\n",
      "\n",
      "  There is a binary version available but the source version is later:\n",
      "             binary  source needs_compilation\n",
      "BiocManager 1.30.20 1.30.23             FALSE\n",
      "\n"
     ]
    },
    {
     "name": "stderr",
     "output_type": "stream",
     "text": [
      "installing the source package 'BiocManager'\n",
      "\n",
      "\n",
      "'getOption(\"repos\")' replaces Bioconductor standard repositories, see\n",
      "'help(\"repositories\", package = \"BiocManager\")' for details.\n",
      "Replacement repositories:\n",
      "    CRAN: https://cran.r-project.org\n",
      "\n",
      "Bioconductor version 3.14 (BiocManager 1.30.23), R 4.1.3 (2022-03-10)\n",
      "\n",
      "Installing package(s) 'BiocVersion', 'edgeR'\n",
      "\n",
      "also installing the dependencies 'limma', 'locfit'\n",
      "\n",
      "\n"
     ]
    },
    {
     "name": "stdout",
     "output_type": "stream",
     "text": [
      "\n",
      "  There is a binary version available but the source version is later:\n",
      "        binary   source needs_compilation\n",
      "locfit 1.5-9.7 1.5-9.10              TRUE\n",
      "\n",
      "  Binaries will be installed\n",
      "package 'limma' successfully unpacked and MD5 sums checked\n",
      "package 'locfit' successfully unpacked and MD5 sums checked\n",
      "package 'BiocVersion' successfully unpacked and MD5 sums checked\n",
      "package 'edgeR' successfully unpacked and MD5 sums checked\n",
      "\n",
      "The downloaded binary packages are in\n",
      "\tC:\\Users\\au612681\\AppData\\Local\\Temp\\RtmpQdhH32\\downloaded_packages\n"
     ]
    },
    {
     "name": "stderr",
     "output_type": "stream",
     "text": [
      "Old packages: 'askpass', 'backports', 'cachem', 'colorspace', 'crayon', 'curl',\n",
      "  'data.table', 'dplyr', 'evaluate', 'farver', 'fs', 'ggrepel', 'haven',\n",
      "  'igraph', 'lattice', 'lifecycle', 'locfit', 'lubridate', 'mgcv', 'nlme',\n",
      "  'openssl', 'openxlsx', 'pdftools', 'processx', 'ps', 'purrr', 'qpdf', 'ragg',\n",
      "  'Rcpp', 'readr', 'readxl', 'repr', 'sass', 'scales', 'stringi', 'sys',\n",
      "  'systemfonts', 'textshaping', 'tidyr', 'tidyselect', 'timechange', 'tzdb',\n",
      "  'uuid', 'vroom', 'withr', 'xfun', 'xml2', 'yaml', 'zip'\n",
      "\n",
      "'getOption(\"repos\")' replaces Bioconductor standard repositories, see\n",
      "'help(\"repositories\", package = \"BiocManager\")' for details.\n",
      "Replacement repositories:\n",
      "    CRAN: https://cran.r-project.org\n",
      "\n",
      "Bioconductor version 3.14 (BiocManager 1.30.23), R 4.1.3 (2022-03-10)\n",
      "\n",
      "Installing package(s) 'DESeq2'\n",
      "\n",
      "Warning message:\n",
      "\"dependencies 'Matrix', 'MASS' are not available\"\n",
      "also installing the dependencies 'bitops', 'formatR', 'plogr', 'png', 'Biostrings', 'RCurl', 'GenomeInfoDbData', 'zlibbioc', 'matrixStats', 'lambda.r', 'futile.options', 'RSQLite', 'KEGGREST', 'XML', 'xtable', 'GenomeInfoDb', 'XVector', 'MatrixGenerics', 'DelayedArray', 'futile.logger', 'snow', 'BH', 'AnnotationDbi', 'annotate', 'survival', 'scales', 'S4Vectors', 'IRanges', 'GenomicRanges', 'SummarizedExperiment', 'BiocGenerics', 'Biobase', 'BiocParallel', 'genefilter', 'geneplotter', 'ggplot2', 'RcppArmadillo'\n",
      "\n",
      "\n"
     ]
    },
    {
     "name": "stdout",
     "output_type": "stream",
     "text": [
      "\n",
      "  There are binary versions available but the source versions are later:\n",
      "                  binary    source needs_compilation\n",
      "bitops             1.0-7     1.0-8              TRUE\n",
      "RCurl          1.98-1.12 1.98-1.16              TRUE\n",
      "matrixStats       0.63.0     1.3.0              TRUE\n",
      "RSQLite            2.3.1     2.3.7              TRUE\n",
      "XML            3.99-0.14 3.99-0.17              TRUE\n",
      "BH              1.81.0-1  1.84.0-0             FALSE\n",
      "survival           3.5-5     3.7-0              TRUE\n",
      "scales             1.2.1     1.3.0              TRUE\n",
      "ggplot2            3.4.2     3.5.1             FALSE\n",
      "RcppArmadillo 0.12.2.0.0  14.0.0-1              TRUE\n",
      "\n",
      "  Binaries will be installed\n",
      "package 'bitops' successfully unpacked and MD5 sums checked\n",
      "package 'formatR' successfully unpacked and MD5 sums checked\n",
      "package 'plogr' successfully unpacked and MD5 sums checked\n",
      "package 'png' successfully unpacked and MD5 sums checked\n",
      "package 'Biostrings' successfully unpacked and MD5 sums checked\n",
      "package 'RCurl' successfully unpacked and MD5 sums checked\n",
      "package 'zlibbioc' successfully unpacked and MD5 sums checked\n",
      "package 'matrixStats' successfully unpacked and MD5 sums checked\n",
      "package 'lambda.r' successfully unpacked and MD5 sums checked\n",
      "package 'futile.options' successfully unpacked and MD5 sums checked\n",
      "package 'RSQLite' successfully unpacked and MD5 sums checked\n",
      "package 'KEGGREST' successfully unpacked and MD5 sums checked\n",
      "package 'XML' successfully unpacked and MD5 sums checked\n",
      "package 'xtable' successfully unpacked and MD5 sums checked\n",
      "package 'GenomeInfoDb' successfully unpacked and MD5 sums checked\n",
      "package 'XVector' successfully unpacked and MD5 sums checked\n",
      "package 'MatrixGenerics' successfully unpacked and MD5 sums checked\n",
      "package 'DelayedArray' successfully unpacked and MD5 sums checked\n",
      "package 'futile.logger' successfully unpacked and MD5 sums checked\n",
      "package 'snow' successfully unpacked and MD5 sums checked\n",
      "package 'AnnotationDbi' successfully unpacked and MD5 sums checked\n",
      "package 'annotate' successfully unpacked and MD5 sums checked\n",
      "package 'survival' successfully unpacked and MD5 sums checked\n",
      "package 'scales' successfully unpacked and MD5 sums checked\n",
      "package 'S4Vectors' successfully unpacked and MD5 sums checked\n",
      "package 'IRanges' successfully unpacked and MD5 sums checked\n",
      "package 'GenomicRanges' successfully unpacked and MD5 sums checked\n",
      "package 'SummarizedExperiment' successfully unpacked and MD5 sums checked\n",
      "package 'BiocGenerics' successfully unpacked and MD5 sums checked\n",
      "package 'Biobase' successfully unpacked and MD5 sums checked\n",
      "package 'BiocParallel' successfully unpacked and MD5 sums checked\n",
      "package 'genefilter' successfully unpacked and MD5 sums checked\n",
      "package 'geneplotter' successfully unpacked and MD5 sums checked\n",
      "package 'RcppArmadillo' successfully unpacked and MD5 sums checked\n",
      "package 'DESeq2' successfully unpacked and MD5 sums checked\n",
      "\n",
      "The downloaded binary packages are in\n",
      "\tC:\\Users\\au612681\\AppData\\Local\\Temp\\RtmpQdhH32\\downloaded_packages\n"
     ]
    },
    {
     "name": "stderr",
     "output_type": "stream",
     "text": [
      "installing the source packages 'GenomeInfoDbData', 'BH', 'ggplot2'\n",
      "\n",
      "\n",
      "Warning message in install.packages(...):\n",
      "\"installation of package 'ggplot2' had non-zero exit status\"\n",
      "Old packages: 'askpass', 'backports', 'bitops', 'cachem', 'colorspace',\n",
      "  'crayon', 'curl', 'data.table', 'dplyr', 'evaluate', 'farver', 'fs',\n",
      "  'ggrepel', 'haven', 'igraph', 'lattice', 'lifecycle', 'locfit', 'lubridate',\n",
      "  'matrixStats', 'mgcv', 'nlme', 'openssl', 'openxlsx', 'pdftools', 'processx',\n",
      "  'ps', 'purrr', 'qpdf', 'ragg', 'Rcpp', 'RcppArmadillo', 'RCurl', 'readr',\n",
      "  'readxl', 'repr', 'RSQLite', 'sass', 'scales', 'stringi', 'survival', 'sys',\n",
      "  'systemfonts', 'textshaping', 'tidyr', 'tidyselect', 'timechange', 'tzdb',\n",
      "  'uuid', 'vroom', 'withr', 'xfun', 'XML', 'xml2', 'yaml', 'zip'\n",
      "\n",
      "'getOption(\"repos\")' replaces Bioconductor standard repositories, see\n",
      "'help(\"repositories\", package = \"BiocManager\")' for details.\n",
      "Replacement repositories:\n",
      "    CRAN: https://cran.r-project.org\n",
      "\n",
      "Bioconductor version 3.14 (BiocManager 1.30.23), R 4.1.3 (2022-03-10)\n",
      "\n",
      "Installing package(s) 'ComplexHeatmap'\n",
      "\n",
      "also installing the dependencies 'shape', 'rjson', 'cluster', 'codetools', 'iterators', 'circlize', 'GetoptLong', 'clue', 'GlobalOptions', 'foreach', 'doParallel'\n",
      "\n",
      "\n"
     ]
    },
    {
     "name": "stdout",
     "output_type": "stream",
     "text": [
      "\n",
      "  There are binary versions available but the source versions are later:\n",
      "          binary  source needs_compilation\n",
      "shape      1.4.6 1.4.6.1             FALSE\n",
      "cluster    2.1.4   2.1.6              TRUE\n",
      "codetools 0.2-19  0.2-20             FALSE\n",
      "circlize  0.4.15  0.4.16             FALSE\n",
      "clue      0.3-64  0.3-65              TRUE\n",
      "\n",
      "  Binaries will be installed\n",
      "package 'rjson' successfully unpacked and MD5 sums checked\n",
      "package 'cluster' successfully unpacked and MD5 sums checked\n",
      "package 'iterators' successfully unpacked and MD5 sums checked\n",
      "package 'GetoptLong' successfully unpacked and MD5 sums checked\n",
      "package 'clue' successfully unpacked and MD5 sums checked\n",
      "package 'GlobalOptions' successfully unpacked and MD5 sums checked\n",
      "package 'foreach' successfully unpacked and MD5 sums checked\n",
      "package 'doParallel' successfully unpacked and MD5 sums checked\n",
      "package 'ComplexHeatmap' successfully unpacked and MD5 sums checked\n",
      "\n",
      "The downloaded binary packages are in\n",
      "\tC:\\Users\\au612681\\AppData\\Local\\Temp\\RtmpQdhH32\\downloaded_packages\n"
     ]
    },
    {
     "name": "stderr",
     "output_type": "stream",
     "text": [
      "installing the source packages 'shape', 'codetools', 'circlize'\n",
      "\n",
      "\n",
      "Old packages: 'askpass', 'backports', 'bitops', 'cachem', 'clue', 'cluster',\n",
      "  'colorspace', 'crayon', 'curl', 'data.table', 'dplyr', 'evaluate', 'farver',\n",
      "  'fs', 'ggrepel', 'haven', 'igraph', 'lattice', 'lifecycle', 'locfit',\n",
      "  'lubridate', 'matrixStats', 'mgcv', 'nlme', 'openssl', 'openxlsx',\n",
      "  'pdftools', 'processx', 'ps', 'purrr', 'qpdf', 'ragg', 'Rcpp',\n",
      "  'RcppArmadillo', 'RCurl', 'readr', 'readxl', 'repr', 'RSQLite', 'sass',\n",
      "  'scales', 'stringi', 'survival', 'sys', 'systemfonts', 'textshaping',\n",
      "  'tidyr', 'tidyselect', 'timechange', 'tzdb', 'uuid', 'vroom', 'withr',\n",
      "  'xfun', 'XML', 'xml2', 'yaml', 'zip'\n",
      "\n",
      "'getOption(\"repos\")' replaces Bioconductor standard repositories, see\n",
      "'help(\"repositories\", package = \"BiocManager\")' for details.\n",
      "Replacement repositories:\n",
      "    CRAN: https://cran.r-project.org\n",
      "\n",
      "Bioconductor version 3.14 (BiocManager 1.30.23), R 4.1.3 (2022-03-10)\n",
      "\n",
      "Installing package(s) 'clusterProfiler'\n",
      "\n",
      "Warning message:\n",
      "\"dependencies 'Matrix', 'MASS' are not available\"\n",
      "also installing the dependencies 'gridGraphics', 'tweenr', 'polyclip', 'RcppEigen', 'igraph', 'lazyeval', 'gridExtra', 'fastmatch', 'scales', 'ggfun', 'ggplotify', 'patchwork', 'ggforce', 'viridis', 'tidygraph', 'graphlayouts', 'ape', 'tidytree', 'treeio', 'curl', 'DO.db', 'fgsea', 'ggplot2', 'reshape2', 'aplot', 'ggraph', 'scatterpie', 'shadowtext', 'ggtree', 'httr2', 'downloader', 'DOSE', 'enrichplot', 'GO.db', 'GOSemSim', 'plyr', 'qvalue', 'yulab.utils'\n",
      "\n",
      "\n"
     ]
    },
    {
     "name": "stdout",
     "output_type": "stream",
     "text": [
      "\n",
      "  There are binary versions available but the source versions are later:\n",
      "                binary    source needs_compilation\n",
      "tweenr           2.0.2     2.0.3              TRUE\n",
      "polyclip        1.10-4    1.10-7              TRUE\n",
      "RcppEigen    0.3.3.9.3 0.3.4.0.1              TRUE\n",
      "igraph           1.4.2     2.0.3              TRUE\n",
      "fastmatch        1.1-3     1.1-4              TRUE\n",
      "scales           1.2.1     1.3.0              TRUE\n",
      "ggfun            0.0.9     0.1.5             FALSE\n",
      "ggplotify        0.1.0     0.1.2             FALSE\n",
      "patchwork        1.1.2     1.2.0             FALSE\n",
      "ggforce          0.4.1     0.4.2              TRUE\n",
      "viridis          0.6.2     0.6.5             FALSE\n",
      "tidygraph        1.2.3     1.3.1              TRUE\n",
      "graphlayouts     0.8.4     1.1.1              TRUE\n",
      "ape              5.7-1       5.8              TRUE\n",
      "tidytree         0.4.2     0.4.6             FALSE\n",
      "curl             5.0.0     5.2.1              TRUE\n",
      "ggplot2          3.4.2     3.5.1             FALSE\n",
      "aplot           0.1.10     0.2.3             FALSE\n",
      "ggraph           2.1.0     2.2.1              TRUE\n",
      "scatterpie       0.1.8     0.2.3             FALSE\n",
      "shadowtext       0.1.2     0.1.4             FALSE\n",
      "httr2            0.2.2     1.0.2             FALSE\n",
      "plyr             1.8.8     1.8.9              TRUE\n",
      "yulab.utils      0.0.6     0.1.6             FALSE\n",
      "\n",
      "  Binaries will be installed\n",
      "package 'gridGraphics' successfully unpacked and MD5 sums checked\n",
      "package 'tweenr' successfully unpacked and MD5 sums checked\n",
      "package 'polyclip' successfully unpacked and MD5 sums checked\n",
      "package 'RcppEigen' successfully unpacked and MD5 sums checked\n",
      "package 'igraph' successfully unpacked and MD5 sums checked\n",
      "package 'lazyeval' successfully unpacked and MD5 sums checked\n",
      "package 'gridExtra' successfully unpacked and MD5 sums checked\n",
      "package 'fastmatch' successfully unpacked and MD5 sums checked\n",
      "package 'scales' successfully unpacked and MD5 sums checked\n",
      "package 'ggforce' successfully unpacked and MD5 sums checked\n",
      "package 'tidygraph' successfully unpacked and MD5 sums checked\n",
      "package 'graphlayouts' successfully unpacked and MD5 sums checked\n",
      "package 'ape' successfully unpacked and MD5 sums checked\n",
      "package 'treeio' successfully unpacked and MD5 sums checked\n",
      "package 'curl' successfully unpacked and MD5 sums checked\n",
      "package 'fgsea' successfully unpacked and MD5 sums checked\n",
      "package 'reshape2' successfully unpacked and MD5 sums checked\n",
      "package 'ggraph' successfully unpacked and MD5 sums checked\n",
      "package 'ggtree' successfully unpacked and MD5 sums checked\n",
      "package 'downloader' successfully unpacked and MD5 sums checked\n",
      "package 'DOSE' successfully unpacked and MD5 sums checked\n",
      "package 'enrichplot' successfully unpacked and MD5 sums checked\n",
      "package 'GOSemSim' successfully unpacked and MD5 sums checked\n",
      "package 'plyr' successfully unpacked and MD5 sums checked\n",
      "package 'qvalue' successfully unpacked and MD5 sums checked\n",
      "package 'clusterProfiler' successfully unpacked and MD5 sums checked\n",
      "\n",
      "The downloaded binary packages are in\n",
      "\tC:\\Users\\au612681\\AppData\\Local\\Temp\\RtmpQdhH32\\downloaded_packages\n"
     ]
    },
    {
     "name": "stderr",
     "output_type": "stream",
     "text": [
      "installing the source packages 'ggfun', 'ggplotify', 'patchwork', 'viridis', 'tidytree', 'DO.db', 'ggplot2', 'aplot', 'scatterpie', 'shadowtext', 'httr2', 'GO.db', 'yulab.utils'\n",
      "\n",
      "\n",
      "Warning message in install.packages(...):\n",
      "\"installation of package 'ggplot2' had non-zero exit status\"\n",
      "Warning message in install.packages(...):\n",
      "\"installation of package 'httr2' had non-zero exit status\"\n",
      "Warning message in install.packages(...):\n",
      "\"installation of package 'ggfun' had non-zero exit status\"\n",
      "Warning message in install.packages(...):\n",
      "\"installation of package 'patchwork' had non-zero exit status\"\n",
      "Warning message in install.packages(...):\n",
      "\"installation of package 'viridis' had non-zero exit status\"\n",
      "Warning message in install.packages(...):\n",
      "\"installation of package 'shadowtext' had non-zero exit status\"\n",
      "Warning message in install.packages(...):\n",
      "\"installation of package 'yulab.utils' had non-zero exit status\"\n",
      "Warning message in install.packages(...):\n",
      "\"installation of package 'ggplotify' had non-zero exit status\"\n",
      "Warning message in install.packages(...):\n",
      "\"installation of package 'tidytree' had non-zero exit status\"\n",
      "Warning message in install.packages(...):\n",
      "\"installation of package 'scatterpie' had non-zero exit status\"\n",
      "Warning message in install.packages(...):\n",
      "\"installation of package 'aplot' had non-zero exit status\"\n",
      "Old packages: 'ape', 'askpass', 'backports', 'bitops', 'cachem', 'clue',\n",
      "  'cluster', 'colorspace', 'crayon', 'curl', 'data.table', 'dplyr', 'evaluate',\n",
      "  'farver', 'fastmatch', 'fs', 'ggforce', 'ggraph', 'ggrepel', 'graphlayouts',\n",
      "  'haven', 'igraph', 'lattice', 'lifecycle', 'locfit', 'lubridate',\n",
      "  'matrixStats', 'mgcv', 'nlme', 'openssl', 'openxlsx', 'pdftools', 'plyr',\n",
      "  'polyclip', 'processx', 'ps', 'purrr', 'qpdf', 'ragg', 'Rcpp',\n",
      "  'RcppArmadillo', 'RcppEigen', 'RCurl', 'readr', 'readxl', 'repr', 'RSQLite',\n",
      "  'sass', 'scales', 'stringi', 'survival', 'sys', 'systemfonts', 'textshaping',\n",
      "  'tidygraph', 'tidyr', 'tidyselect', 'timechange', 'tweenr', 'tzdb', 'uuid',\n",
      "  'vroom', 'withr', 'xfun', 'XML', 'xml2', 'yaml', 'zip'\n",
      "\n",
      "'getOption(\"repos\")' replaces Bioconductor standard repositories, see\n",
      "'help(\"repositories\", package = \"BiocManager\")' for details.\n",
      "Replacement repositories:\n",
      "    CRAN: https://cran.r-project.org\n",
      "\n",
      "Bioconductor version 3.14 (BiocManager 1.30.23), R 4.1.3 (2022-03-10)\n",
      "\n",
      "Installing package(s) 'org.Hs.eg.db'\n",
      "\n",
      "installing the source package 'org.Hs.eg.db'\n",
      "\n",
      "\n",
      "Old packages: 'ape', 'askpass', 'backports', 'bitops', 'cachem', 'clue',\n",
      "  'cluster', 'colorspace', 'crayon', 'curl', 'data.table', 'dplyr', 'evaluate',\n",
      "  'farver', 'fastmatch', 'fs', 'ggforce', 'ggraph', 'ggrepel', 'graphlayouts',\n",
      "  'haven', 'igraph', 'lattice', 'lifecycle', 'locfit', 'lubridate',\n",
      "  'matrixStats', 'mgcv', 'nlme', 'openssl', 'openxlsx', 'pdftools', 'plyr',\n",
      "  'polyclip', 'processx', 'ps', 'purrr', 'qpdf', 'ragg', 'Rcpp',\n",
      "  'RcppArmadillo', 'RcppEigen', 'RCurl', 'readr', 'readxl', 'repr', 'RSQLite',\n",
      "  'sass', 'scales', 'stringi', 'survival', 'sys', 'systemfonts', 'textshaping',\n",
      "  'tidygraph', 'tidyr', 'tidyselect', 'timechange', 'tweenr', 'tzdb', 'uuid',\n",
      "  'vroom', 'withr', 'xfun', 'XML', 'xml2', 'yaml', 'zip'\n",
      "\n",
      "'getOption(\"repos\")' replaces Bioconductor standard repositories, see\n",
      "'help(\"repositories\", package = \"BiocManager\")' for details.\n",
      "Replacement repositories:\n",
      "    CRAN: https://cran.r-project.org\n",
      "\n",
      "Bioconductor version 3.14 (BiocManager 1.30.23), R 4.1.3 (2022-03-10)\n",
      "\n",
      "Installing package(s) 'org.Mm.eg.db'\n",
      "\n",
      "installing the source package 'org.Mm.eg.db'\n",
      "\n",
      "\n",
      "Old packages: 'ape', 'askpass', 'backports', 'bitops', 'cachem', 'clue',\n",
      "  'cluster', 'colorspace', 'crayon', 'curl', 'data.table', 'dplyr', 'evaluate',\n",
      "  'farver', 'fastmatch', 'fs', 'ggforce', 'ggraph', 'ggrepel', 'graphlayouts',\n",
      "  'haven', 'igraph', 'lattice', 'lifecycle', 'locfit', 'lubridate',\n",
      "  'matrixStats', 'mgcv', 'nlme', 'openssl', 'openxlsx', 'pdftools', 'plyr',\n",
      "  'polyclip', 'processx', 'ps', 'purrr', 'qpdf', 'ragg', 'Rcpp',\n",
      "  'RcppArmadillo', 'RcppEigen', 'RCurl', 'readr', 'readxl', 'repr', 'RSQLite',\n",
      "  'sass', 'scales', 'stringi', 'survival', 'sys', 'systemfonts', 'textshaping',\n",
      "  'tidygraph', 'tidyr', 'tidyselect', 'timechange', 'tweenr', 'tzdb', 'uuid',\n",
      "  'vroom', 'withr', 'xfun', 'XML', 'xml2', 'yaml', 'zip'\n",
      "\n",
      "'getOption(\"repos\")' replaces Bioconductor standard repositories, see\n",
      "'help(\"repositories\", package = \"BiocManager\")' for details.\n",
      "Replacement repositories:\n",
      "    CRAN: https://cran.r-project.org\n",
      "\n",
      "Bioconductor version 3.14 (BiocManager 1.30.23), R 4.1.3 (2022-03-10)\n",
      "\n",
      "Warning message:\n",
      "\"package(s) not installed when version(s) same as or greater than current; use\n",
      "  `force = TRUE` to re-install: 'AnnotationDbi'\"\n",
      "Old packages: 'ape', 'askpass', 'backports', 'bitops', 'cachem', 'clue',\n",
      "  'cluster', 'colorspace', 'crayon', 'curl', 'data.table', 'dplyr', 'evaluate',\n",
      "  'farver', 'fastmatch', 'fs', 'ggforce', 'ggraph', 'ggrepel', 'graphlayouts',\n",
      "  'haven', 'igraph', 'lattice', 'lifecycle', 'locfit', 'lubridate',\n",
      "  'matrixStats', 'mgcv', 'nlme', 'openssl', 'openxlsx', 'pdftools', 'plyr',\n",
      "  'polyclip', 'processx', 'ps', 'purrr', 'qpdf', 'ragg', 'Rcpp',\n",
      "  'RcppArmadillo', 'RcppEigen', 'RCurl', 'readr', 'readxl', 'repr', 'RSQLite',\n",
      "  'sass', 'scales', 'stringi', 'survival', 'sys', 'systemfonts', 'textshaping',\n",
      "  'tidygraph', 'tidyr', 'tidyselect', 'timechange', 'tweenr', 'tzdb', 'uuid',\n",
      "  'vroom', 'withr', 'xfun', 'XML', 'xml2', 'yaml', 'zip'\n",
      "\n",
      "'getOption(\"repos\")' replaces Bioconductor standard repositories, see\n",
      "'help(\"repositories\", package = \"BiocManager\")' for details.\n",
      "Replacement repositories:\n",
      "    CRAN: https://cran.r-project.org\n",
      "\n",
      "Bioconductor version 3.14 (BiocManager 1.30.23), R 4.1.3 (2022-03-10)\n",
      "\n",
      "Installing package(s) 'pathview'\n",
      "\n",
      "also installing the dependencies 'KEGGgraph', 'Rgraphviz', 'graph'\n",
      "\n",
      "\n"
     ]
    },
    {
     "name": "stdout",
     "output_type": "stream",
     "text": [
      "package 'KEGGgraph' successfully unpacked and MD5 sums checked\n",
      "package 'Rgraphviz' successfully unpacked and MD5 sums checked\n",
      "package 'graph' successfully unpacked and MD5 sums checked\n",
      "package 'pathview' successfully unpacked and MD5 sums checked\n",
      "\n",
      "The downloaded binary packages are in\n",
      "\tC:\\Users\\au612681\\AppData\\Local\\Temp\\RtmpQdhH32\\downloaded_packages\n"
     ]
    },
    {
     "name": "stderr",
     "output_type": "stream",
     "text": [
      "Old packages: 'ape', 'askpass', 'backports', 'bitops', 'cachem', 'clue',\n",
      "  'cluster', 'colorspace', 'crayon', 'curl', 'data.table', 'dplyr', 'evaluate',\n",
      "  'farver', 'fastmatch', 'fs', 'ggforce', 'ggraph', 'ggrepel', 'graphlayouts',\n",
      "  'haven', 'igraph', 'lattice', 'lifecycle', 'locfit', 'lubridate',\n",
      "  'matrixStats', 'mgcv', 'nlme', 'openssl', 'openxlsx', 'pdftools', 'plyr',\n",
      "  'polyclip', 'processx', 'ps', 'purrr', 'qpdf', 'ragg', 'Rcpp',\n",
      "  'RcppArmadillo', 'RcppEigen', 'RCurl', 'readr', 'readxl', 'repr', 'RSQLite',\n",
      "  'sass', 'scales', 'stringi', 'survival', 'sys', 'systemfonts', 'textshaping',\n",
      "  'tidygraph', 'tidyr', 'tidyselect', 'timechange', 'tweenr', 'tzdb', 'uuid',\n",
      "  'vroom', 'withr', 'xfun', 'XML', 'xml2', 'yaml', 'zip'\n",
      "\n",
      "'getOption(\"repos\")' replaces Bioconductor standard repositories, see\n",
      "'help(\"repositories\", package = \"BiocManager\")' for details.\n",
      "Replacement repositories:\n",
      "    CRAN: https://cran.r-project.org\n",
      "\n",
      "Bioconductor version 3.14 (BiocManager 1.30.23), R 4.1.3 (2022-03-10)\n",
      "\n",
      "Warning message:\n",
      "\"package(s) not installed when version(s) same as or greater than current; use\n",
      "  `force = TRUE` to re-install: 'DOSE'\"\n",
      "Old packages: 'ape', 'askpass', 'backports', 'bitops', 'cachem', 'clue',\n",
      "  'cluster', 'colorspace', 'crayon', 'curl', 'data.table', 'dplyr', 'evaluate',\n",
      "  'farver', 'fastmatch', 'fs', 'ggforce', 'ggraph', 'ggrepel', 'graphlayouts',\n",
      "  'haven', 'igraph', 'lattice', 'lifecycle', 'locfit', 'lubridate',\n",
      "  'matrixStats', 'mgcv', 'nlme', 'openssl', 'openxlsx', 'pdftools', 'plyr',\n",
      "  'polyclip', 'processx', 'ps', 'purrr', 'qpdf', 'ragg', 'Rcpp',\n",
      "  'RcppArmadillo', 'RcppEigen', 'RCurl', 'readr', 'readxl', 'repr', 'RSQLite',\n",
      "  'sass', 'scales', 'stringi', 'survival', 'sys', 'systemfonts', 'textshaping',\n",
      "  'tidygraph', 'tidyr', 'tidyselect', 'timechange', 'tweenr', 'tzdb', 'uuid',\n",
      "  'vroom', 'withr', 'xfun', 'XML', 'xml2', 'yaml', 'zip'\n",
      "\n",
      "'getOption(\"repos\")' replaces Bioconductor standard repositories, see\n",
      "'help(\"repositories\", package = \"BiocManager\")' for details.\n",
      "Replacement repositories:\n",
      "    CRAN: https://cran.r-project.org\n",
      "\n",
      "Bioconductor version 3.14 (BiocManager 1.30.23), R 4.1.3 (2022-03-10)\n",
      "\n",
      "Warning message:\n",
      "\"package(s) not installed when version(s) same as or greater than current; use\n",
      "  `force = TRUE` to re-install: 'enrichplot'\"\n",
      "Old packages: 'ape', 'askpass', 'backports', 'bitops', 'cachem', 'clue',\n",
      "  'cluster', 'colorspace', 'crayon', 'curl', 'data.table', 'dplyr', 'evaluate',\n",
      "  'farver', 'fastmatch', 'fs', 'ggforce', 'ggraph', 'ggrepel', 'graphlayouts',\n",
      "  'haven', 'igraph', 'lattice', 'lifecycle', 'locfit', 'lubridate',\n",
      "  'matrixStats', 'mgcv', 'nlme', 'openssl', 'openxlsx', 'pdftools', 'plyr',\n",
      "  'polyclip', 'processx', 'ps', 'purrr', 'qpdf', 'ragg', 'Rcpp',\n",
      "  'RcppArmadillo', 'RcppEigen', 'RCurl', 'readr', 'readxl', 'repr', 'RSQLite',\n",
      "  'sass', 'scales', 'stringi', 'survival', 'sys', 'systemfonts', 'textshaping',\n",
      "  'tidygraph', 'tidyr', 'tidyselect', 'timechange', 'tweenr', 'tzdb', 'uuid',\n",
      "  'vroom', 'withr', 'xfun', 'XML', 'xml2', 'yaml', 'zip'\n",
      "\n",
      "'getOption(\"repos\")' replaces Bioconductor standard repositories, see\n",
      "'help(\"repositories\", package = \"BiocManager\")' for details.\n",
      "Replacement repositories:\n",
      "    CRAN: https://cran.r-project.org\n",
      "\n",
      "Bioconductor version 3.14 (BiocManager 1.30.23), R 4.1.3 (2022-03-10)\n",
      "\n",
      "Installing package(s) 'ReactomePA'\n",
      "\n",
      "Warning message:\n",
      "\"dependency 'MASS' is not available\"\n",
      "also installing the dependencies 'scales', 'checkmate', 'ggplot2', 'reactome.db', 'graphite'\n",
      "\n",
      "\n"
     ]
    },
    {
     "name": "stdout",
     "output_type": "stream",
     "text": [
      "\n",
      "  There are binary versions available but the source versions are later:\n",
      "          binary source needs_compilation\n",
      "scales     1.2.1  1.3.0              TRUE\n",
      "checkmate  2.1.0  2.3.2              TRUE\n",
      "ggplot2    3.4.2  3.5.1             FALSE\n",
      "\n",
      "  Binaries will be installed\n",
      "package 'scales' successfully unpacked and MD5 sums checked\n",
      "package 'checkmate' successfully unpacked and MD5 sums checked\n",
      "package 'graphite' successfully unpacked and MD5 sums checked\n",
      "package 'ReactomePA' successfully unpacked and MD5 sums checked\n",
      "\n",
      "The downloaded binary packages are in\n",
      "\tC:\\Users\\au612681\\AppData\\Local\\Temp\\RtmpQdhH32\\downloaded_packages\n"
     ]
    },
    {
     "name": "stderr",
     "output_type": "stream",
     "text": [
      "installing the source packages 'ggplot2', 'reactome.db'\n",
      "\n",
      "\n",
      "Warning message in install.packages(...):\n",
      "\"installation of package 'ggplot2' had non-zero exit status\"\n",
      "Old packages: 'ape', 'askpass', 'backports', 'bitops', 'cachem', 'checkmate',\n",
      "  'clue', 'cluster', 'colorspace', 'crayon', 'curl', 'data.table', 'dplyr',\n",
      "  'evaluate', 'farver', 'fastmatch', 'fs', 'ggforce', 'ggraph', 'ggrepel',\n",
      "  'graphlayouts', 'haven', 'igraph', 'lattice', 'lifecycle', 'locfit',\n",
      "  'lubridate', 'matrixStats', 'mgcv', 'nlme', 'openssl', 'openxlsx',\n",
      "  'pdftools', 'plyr', 'polyclip', 'processx', 'ps', 'purrr', 'qpdf', 'ragg',\n",
      "  'Rcpp', 'RcppArmadillo', 'RcppEigen', 'RCurl', 'readr', 'readxl', 'repr',\n",
      "  'RSQLite', 'sass', 'scales', 'stringi', 'survival', 'sys', 'systemfonts',\n",
      "  'textshaping', 'tidygraph', 'tidyr', 'tidyselect', 'timechange', 'tweenr',\n",
      "  'tzdb', 'uuid', 'vroom', 'withr', 'xfun', 'XML', 'xml2', 'yaml', 'zip'\n",
      "\n"
     ]
    }
   ],
   "source": [
    "#| output: false\n",
    "\n",
    "install.packages(\"ggplot2\")\n",
    "install.packages(\"pheatmap\")\n",
    "install.packages(\"ggrepel\")\n",
    "install.packages(\"openxlsx\")\n",
    "install.packages(\"readxl\")\n",
    "install.packages(\"tidyverse\")\n",
    "install.packages(\"RColorBrewer\")\n",
    "install.packages(\"pdftools\")\n",
    "install.packages(\"dplyr\")\n",
    "install.packages(\"ggridges\")\n",
    "install.packages(\"forcats\")\n",
    "install.packages(\"igraph\")\n",
    "\n",
    "# Install Bioconductor packages\n",
    "if (!requireNamespace(\"BiocManager\", quietly = TRUE)) {\n",
    "    install.packages(\"BiocManager\")\n",
    "}\n",
    "\n",
    "BiocManager::install(\"edgeR\")\n",
    "BiocManager::install(\"DESeq2\")\n",
    "BiocManager::install(\"ComplexHeatmap\")\n",
    "BiocManager::install(\"clusterProfiler\")\n",
    "BiocManager::install(\"org.Hs.eg.db\")\n",
    "BiocManager::install(\"org.Mm.eg.db\")\n",
    "BiocManager::install(\"AnnotationDbi\")\n",
    "BiocManager::install(\"pathview\")\n",
    "BiocManager::install(\"DOSE\")\n",
    "BiocManager::install(\"enrichplot\")\n",
    "BiocManager::install(\"ReactomePA\")\n",
    "BiocManager::install(\"SummarizedExperiment\")"
   ]
  },
  {
   "cell_type": "markdown",
   "metadata": {},
   "source": [
    "We should then load the needed packages"
   ]
  },
  {
   "cell_type": "code",
   "execution_count": 1,
   "metadata": {
    "scrolled": true
   },
   "outputs": [
    {
     "name": "stderr",
     "output_type": "stream",
     "text": [
      "Indlæser krævet pakke: limma\n",
      "\n",
      "Indlæser krævet pakke: S4Vectors\n",
      "\n",
      "Indlæser krævet pakke: stats4\n",
      "\n",
      "Indlæser krævet pakke: BiocGenerics\n",
      "\n",
      "\n",
      "Vedhæfter pakke: 'BiocGenerics'\n",
      "\n",
      "\n",
      "Det følgende objekt er maskeret fra 'package:limma':\n",
      "\n",
      "    plotMA\n",
      "\n",
      "\n",
      "De følgende objekter er maskerede fra 'package:stats':\n",
      "\n",
      "    IQR, mad, sd, var, xtabs\n",
      "\n",
      "\n",
      "De følgende objekter er maskerede fra 'package:base':\n",
      "\n",
      "    anyDuplicated, append, as.data.frame, basename, cbind, colnames,\n",
      "    dirname, do.call, duplicated, eval, evalq, Filter, Find, get, grep,\n",
      "    grepl, intersect, is.unsorted, lapply, Map, mapply, match, mget,\n",
      "    order, paste, pmax, pmax.int, pmin, pmin.int, Position, rank,\n",
      "    rbind, Reduce, rownames, sapply, setdiff, sort, table, tapply,\n",
      "    union, unique, unsplit, which.max, which.min\n",
      "\n",
      "\n",
      "\n",
      "Vedhæfter pakke: 'S4Vectors'\n",
      "\n",
      "\n",
      "De følgende objekter er maskerede fra 'package:base':\n",
      "\n",
      "    expand.grid, I, unname\n",
      "\n",
      "\n",
      "Indlæser krævet pakke: IRanges\n",
      "\n",
      "\n",
      "Vedhæfter pakke: 'IRanges'\n",
      "\n",
      "\n",
      "Det følgende objekt er maskeret fra 'package:grDevices':\n",
      "\n",
      "    windows\n",
      "\n",
      "\n",
      "Indlæser krævet pakke: GenomicRanges\n",
      "\n",
      "Indlæser krævet pakke: GenomeInfoDb\n",
      "\n",
      "Indlæser krævet pakke: SummarizedExperiment\n",
      "\n",
      "Indlæser krævet pakke: MatrixGenerics\n",
      "\n",
      "Indlæser krævet pakke: matrixStats\n",
      "\n",
      "\n",
      "Vedhæfter pakke: 'MatrixGenerics'\n",
      "\n",
      "\n",
      "De følgende objekter er maskerede fra 'package:matrixStats':\n",
      "\n",
      "    colAlls, colAnyNAs, colAnys, colAvgsPerRowSet, colCollapse,\n",
      "    colCounts, colCummaxs, colCummins, colCumprods, colCumsums,\n",
      "    colDiffs, colIQRDiffs, colIQRs, colLogSumExps, colMadDiffs,\n",
      "    colMads, colMaxs, colMeans2, colMedians, colMins, colOrderStats,\n",
      "    colProds, colQuantiles, colRanges, colRanks, colSdDiffs, colSds,\n",
      "    colSums2, colTabulates, colVarDiffs, colVars, colWeightedMads,\n",
      "    colWeightedMeans, colWeightedMedians, colWeightedSds,\n",
      "    colWeightedVars, rowAlls, rowAnyNAs, rowAnys, rowAvgsPerColSet,\n",
      "    rowCollapse, rowCounts, rowCummaxs, rowCummins, rowCumprods,\n",
      "    rowCumsums, rowDiffs, rowIQRDiffs, rowIQRs, rowLogSumExps,\n",
      "    rowMadDiffs, rowMads, rowMaxs, rowMeans2, rowMedians, rowMins,\n",
      "    rowOrderStats, rowProds, rowQuantiles, rowRanges, rowRanks,\n",
      "    rowSdDiffs, rowSds, rowSums2, rowTabulates, rowVarDiffs, rowVars,\n",
      "    rowWeightedMads, rowWeightedMeans, rowWeightedMedians,\n",
      "    rowWeightedSds, rowWeightedVars\n",
      "\n",
      "\n",
      "Indlæser krævet pakke: Biobase\n",
      "\n",
      "Welcome to Bioconductor\n",
      "\n",
      "    Vignettes contain introductory material; view with\n",
      "    'browseVignettes()'. To cite Bioconductor, see\n",
      "    'citation(\"Biobase\")', and for packages 'citation(\"pkgname\")'.\n",
      "\n",
      "\n",
      "\n",
      "Vedhæfter pakke: 'Biobase'\n",
      "\n",
      "\n",
      "Det følgende objekt er maskeret fra 'package:MatrixGenerics':\n",
      "\n",
      "    rowMedians\n",
      "\n",
      "\n",
      "De følgende objekter er maskerede fra 'package:matrixStats':\n",
      "\n",
      "    anyMissing, rowMedians\n",
      "\n",
      "\n",
      "Indlæser krævet pakke: grid\n",
      "\n",
      "========================================\n",
      "ComplexHeatmap version 2.10.0\n",
      "Bioconductor page: http://bioconductor.org/packages/ComplexHeatmap/\n",
      "Github page: https://github.com/jokergoo/ComplexHeatmap\n",
      "Documentation: http://jokergoo.github.io/ComplexHeatmap-reference\n",
      "\n",
      "If you use it in published research, please cite:\n",
      "Gu, Z. Complex heatmaps reveal patterns and correlations in multidimensional \n",
      "  genomic data. Bioinformatics 2016.\n",
      "\n",
      "The new InteractiveComplexHeatmap package can directly export static \n",
      "complex heatmaps into an interactive Shiny app with zero effort. Have a try!\n",
      "\n",
      "This message can be suppressed by:\n",
      "  suppressPackageStartupMessages(library(ComplexHeatmap))\n",
      "========================================\n",
      "\n",
      "\n",
      "\n",
      "\n",
      "Registered S3 method overwritten by 'ggtree':\n",
      "  method      from \n",
      "  identify.gg ggfun\n",
      "\n",
      "clusterProfiler v4.2.2  For help: https://yulab-smu.top/biomedical-knowledge-mining-book/\n",
      "\n",
      "If you use clusterProfiler in published research, please cite:\n",
      "T Wu, E Hu, S Xu, M Chen, P Guo, Z Dai, T Feng, L Zhou, W Tang, L Zhan, X Fu, S Liu, X Bo, and G Yu. clusterProfiler 4.0: A universal enrichment tool for interpreting omics data. The Innovation. 2021, 2(3):100141\n",
      "\n",
      "\n",
      "Vedhæfter pakke: 'clusterProfiler'\n",
      "\n",
      "\n",
      "Det følgende objekt er maskeret fra 'package:IRanges':\n",
      "\n",
      "    slice\n",
      "\n",
      "\n",
      "Det følgende objekt er maskeret fra 'package:S4Vectors':\n",
      "\n",
      "    rename\n",
      "\n",
      "\n",
      "Det følgende objekt er maskeret fra 'package:stats':\n",
      "\n",
      "    filter\n",
      "\n",
      "\n",
      "\n",
      "Vedhæfter pakke: 'pheatmap'\n",
      "\n",
      "\n",
      "Det følgende objekt er maskeret fra 'package:ComplexHeatmap':\n",
      "\n",
      "    pheatmap\n",
      "\n",
      "\n",
      "Indlæser krævet pakke: AnnotationDbi\n",
      "\n",
      "\n",
      "Vedhæfter pakke: 'AnnotationDbi'\n",
      "\n",
      "\n",
      "Det følgende objekt er maskeret fra 'package:clusterProfiler':\n",
      "\n",
      "    select\n",
      "\n",
      "\n",
      "\n",
      "\n",
      "\n",
      "\n",
      "##############################################################################\n",
      "Pathview is an open source software package distributed under GNU General\n",
      "Public License version 3 (GPLv3). Details of GPLv3 is available at\n",
      "http://www.gnu.org/licenses/gpl-3.0.html. Particullary, users are required to\n",
      "formally cite the original Pathview paper (not just mention it) in publications\n",
      "or products. For details, do citation(\"pathview\") within R.\n",
      "\n",
      "The pathview downloads and uses KEGG data. Non-academic uses may require a KEGG\n",
      "license agreement (details at http://www.kegg.jp/kegg/legal.html).\n",
      "##############################################################################\n",
      "\n",
      "-- \u001b[1mAttaching core tidyverse packages\u001b[22m ---------------------------------------------------------------- tidyverse 2.0.0 --\n",
      "\u001b[32mv\u001b[39m \u001b[34mdplyr    \u001b[39m 1.1.2     \u001b[32mv\u001b[39m \u001b[34mreadr    \u001b[39m 2.1.4\n",
      "\u001b[32mv\u001b[39m \u001b[34mforcats  \u001b[39m 1.0.0     \u001b[32mv\u001b[39m \u001b[34mstringr  \u001b[39m 1.5.0\n",
      "\u001b[32mv\u001b[39m \u001b[34mlubridate\u001b[39m 1.9.2     \u001b[32mv\u001b[39m \u001b[34mtibble   \u001b[39m 3.2.1\n",
      "\u001b[32mv\u001b[39m \u001b[34mpurrr    \u001b[39m 1.0.2     \u001b[32mv\u001b[39m \u001b[34mtidyr    \u001b[39m 1.3.1\n",
      "-- \u001b[1mConflicts\u001b[22m ---------------------------------------------------------------------------------- tidyverse_conflicts() --\n",
      "\u001b[31mx\u001b[39m \u001b[34mlubridate\u001b[39m::\u001b[32m%within%()\u001b[39m masks \u001b[34mIRanges\u001b[39m::%within%()\n",
      "\u001b[31mx\u001b[39m \u001b[34mdplyr\u001b[39m::\u001b[32mcollapse()\u001b[39m     masks \u001b[34mIRanges\u001b[39m::collapse()\n",
      "\u001b[31mx\u001b[39m \u001b[34mdplyr\u001b[39m::\u001b[32mcombine()\u001b[39m      masks \u001b[34mBiobase\u001b[39m::combine(), \u001b[34mBiocGenerics\u001b[39m::combine()\n",
      "\u001b[31mx\u001b[39m \u001b[34mdplyr\u001b[39m::\u001b[32mcount()\u001b[39m        masks \u001b[34mmatrixStats\u001b[39m::count()\n",
      "\u001b[31mx\u001b[39m \u001b[34mdplyr\u001b[39m::\u001b[32mdesc()\u001b[39m         masks \u001b[34mIRanges\u001b[39m::desc()\n",
      "\u001b[31mx\u001b[39m \u001b[34mtidyr\u001b[39m::\u001b[32mexpand()\u001b[39m       masks \u001b[34mS4Vectors\u001b[39m::expand()\n",
      "\u001b[31mx\u001b[39m \u001b[34mdplyr\u001b[39m::\u001b[32mfilter()\u001b[39m       masks \u001b[34mclusterProfiler\u001b[39m::filter(), \u001b[34mstats\u001b[39m::filter()\n",
      "\u001b[31mx\u001b[39m \u001b[34mdplyr\u001b[39m::\u001b[32mfirst()\u001b[39m        masks \u001b[34mS4Vectors\u001b[39m::first()\n",
      "\u001b[31mx\u001b[39m \u001b[34mdplyr\u001b[39m::\u001b[32mlag()\u001b[39m          masks \u001b[34mstats\u001b[39m::lag()\n",
      "\u001b[31mx\u001b[39m \u001b[34mggplot2\u001b[39m::\u001b[32mPosition()\u001b[39m   masks \u001b[34mBiocGenerics\u001b[39m::Position(), \u001b[34mbase\u001b[39m::Position()\n",
      "\u001b[31mx\u001b[39m \u001b[34mpurrr\u001b[39m::\u001b[32mreduce()\u001b[39m       masks \u001b[34mGenomicRanges\u001b[39m::reduce(), \u001b[34mIRanges\u001b[39m::reduce()\n",
      "\u001b[31mx\u001b[39m \u001b[34mdplyr\u001b[39m::\u001b[32mrename()\u001b[39m       masks \u001b[34mclusterProfiler\u001b[39m::rename(), \u001b[34mS4Vectors\u001b[39m::rename()\n",
      "\u001b[31mx\u001b[39m \u001b[34mlubridate\u001b[39m::\u001b[32msecond()\u001b[39m   masks \u001b[34mS4Vectors\u001b[39m::second()\n",
      "\u001b[31mx\u001b[39m \u001b[34mlubridate\u001b[39m::\u001b[32msecond<-()\u001b[39m masks \u001b[34mS4Vectors\u001b[39m::second<-()\n",
      "\u001b[31mx\u001b[39m \u001b[34mdplyr\u001b[39m::\u001b[32mselect()\u001b[39m       masks \u001b[34mAnnotationDbi\u001b[39m::select(), \u001b[34mclusterProfiler\u001b[39m::select()\n",
      "\u001b[31mx\u001b[39m \u001b[34mpurrr\u001b[39m::\u001b[32msimplify()\u001b[39m     masks \u001b[34mclusterProfiler\u001b[39m::simplify()\n",
      "\u001b[31mx\u001b[39m \u001b[34mdplyr\u001b[39m::\u001b[32mslice()\u001b[39m        masks \u001b[34mclusterProfiler\u001b[39m::slice(), \u001b[34mIRanges\u001b[39m::slice()\n",
      "\u001b[36mi\u001b[39m Use the conflicted package (\u001b[3m\u001b[34m<http://conflicted.r-lib.org/>\u001b[39m\u001b[23m) to force all conflicts to become errors\n",
      "DOSE v3.20.1  For help: https://yulab-smu.top/biomedical-knowledge-mining-book/\n",
      "\n",
      "If you use DOSE in published research, please cite:\n",
      "Guangchuang Yu, Li-Gen Wang, Guang-Rong Yan, Qing-Yu He. DOSE: an R/Bioconductor package for Disease Ontology Semantic and Enrichment analysis. Bioinformatics 2015, 31(4):608-609\n",
      "\n",
      "\n",
      "Using poppler version 22.04.0\n",
      "\n",
      "ReactomePA v1.38.0  For help: https://yulab-smu.top/biomedical-knowledge-mining-book/\n",
      "\n",
      "If you use ReactomePA in published research, please cite:\n",
      "Guangchuang Yu, Qing-Yu He. ReactomePA: an R/Bioconductor package for reactome pathway analysis and visualization. Molecular BioSystems 2016, 12(2):477-479\n",
      "\n",
      "\n",
      "Vedhæfter pakke: 'igraph'\n",
      "\n",
      "\n",
      "De følgende objekter er maskerede fra 'package:lubridate':\n",
      "\n",
      "    %--%, union\n",
      "\n",
      "\n",
      "De følgende objekter er maskerede fra 'package:dplyr':\n",
      "\n",
      "    as_data_frame, groups, union\n",
      "\n",
      "\n",
      "De følgende objekter er maskerede fra 'package:purrr':\n",
      "\n",
      "    compose, simplify\n",
      "\n",
      "\n",
      "Det følgende objekt er maskeret fra 'package:tidyr':\n",
      "\n",
      "    crossing\n",
      "\n",
      "\n",
      "Det følgende objekt er maskeret fra 'package:tibble':\n",
      "\n",
      "    as_data_frame\n",
      "\n",
      "\n",
      "Det følgende objekt er maskeret fra 'package:clusterProfiler':\n",
      "\n",
      "    simplify\n",
      "\n",
      "\n",
      "Det følgende objekt er maskeret fra 'package:GenomicRanges':\n",
      "\n",
      "    union\n",
      "\n",
      "\n",
      "Det følgende objekt er maskeret fra 'package:IRanges':\n",
      "\n",
      "    union\n",
      "\n",
      "\n",
      "Det følgende objekt er maskeret fra 'package:S4Vectors':\n",
      "\n",
      "    union\n",
      "\n",
      "\n",
      "De følgende objekter er maskerede fra 'package:BiocGenerics':\n",
      "\n",
      "    normalize, path, union\n",
      "\n",
      "\n",
      "De følgende objekter er maskerede fra 'package:stats':\n",
      "\n",
      "    decompose, spectrum\n",
      "\n",
      "\n",
      "Det følgende objekt er maskeret fra 'package:base':\n",
      "\n",
      "    union\n",
      "\n",
      "\n",
      "Bioconductor version '3.14' is out-of-date; the current release version '3.19'\n",
      "  is available with R version '4.4'; see https://bioconductor.org/install\n",
      "\n"
     ]
    }
   ],
   "source": [
    "#| output: false\n",
    "\n",
    "library(edgeR)\n",
    "library(DESeq2)\n",
    "library(ggplot2)\n",
    "library(ComplexHeatmap)\n",
    "library(clusterProfiler)\n",
    "library(pheatmap)\n",
    "library(org.Hs.eg.db)\n",
    "library(org.Mm.eg.db)\n",
    "library(AnnotationDbi)\n",
    "library(ggrepel)\n",
    "library(openxlsx)\n",
    "library(readxl)\n",
    "library(pathview)\n",
    "library(tidyverse)\n",
    "library(RColorBrewer)\n",
    "library(DOSE)\n",
    "library(enrichplot)\n",
    "library(pdftools)\n",
    "library(dplyr)\n",
    "library(ggridges)\n",
    "library(forcats)\n",
    "library(ReactomePA)\n",
    "library(igraph)\n",
    "library(BiocManager)"
   ]
  },
  {
   "cell_type": "markdown",
   "metadata": {},
   "source": [
    "Here we download a data matrix which we created in advance. The file is compressed, so we also unzip it (converting it from compressed to normal reading format) before reading."
   ]
  },
  {
   "cell_type": "code",
   "execution_count": 5,
   "metadata": {},
   "outputs": [],
   "source": [
    "download.file(\"https://github.com/AU-ABC/AU-ABC.github.io/raw/main/documentation/2024-08-20-ABC3/FeatureCountOutput.zip\", destfile = \"./FeatureCountOutput.zip\")"
   ]
  },
  {
   "cell_type": "code",
   "execution_count": 6,
   "metadata": {},
   "outputs": [],
   "source": [
    "unzip(\"./FeatureCountOutput.zip\")"
   ]
  },
  {
   "cell_type": "code",
   "execution_count": 30,
   "metadata": {},
   "outputs": [],
   "source": [
    "countData <- read.table(\"./FeatureCountOutput.txt\", header = TRUE, sep = \"\\t\")"
   ]
  },
  {
   "cell_type": "markdown",
   "metadata": {},
   "source": [
    "Now we have created the matrix `Countdata` and we check the rownames of the countMatrix. The names are simply numbers and not gene IDs or names. So we replace the row names with the `countData$Geneid` column of the dataset. We use the function \"head\" to view the first 5 names before and after substitution."
   ]
  },
  {
   "cell_type": "code",
   "execution_count": 31,
   "metadata": {},
   "outputs": [
    {
     "data": {
      "text/html": [
       "<style>\n",
       ".list-inline {list-style: none; margin:0; padding: 0}\n",
       ".list-inline>li {display: inline-block}\n",
       ".list-inline>li:not(:last-child)::after {content: \"\\00b7\"; padding: 0 .5ex}\n",
       "</style>\n",
       "<ol class=list-inline><li>'1'</li><li>'2'</li><li>'3'</li><li>'4'</li><li>'5'</li><li>'6'</li></ol>\n"
      ],
      "text/latex": [
       "\\begin{enumerate*}\n",
       "\\item '1'\n",
       "\\item '2'\n",
       "\\item '3'\n",
       "\\item '4'\n",
       "\\item '5'\n",
       "\\item '6'\n",
       "\\end{enumerate*}\n"
      ],
      "text/markdown": [
       "1. '1'\n",
       "2. '2'\n",
       "3. '3'\n",
       "4. '4'\n",
       "5. '5'\n",
       "6. '6'\n",
       "\n",
       "\n"
      ],
      "text/plain": [
       "[1] \"1\" \"2\" \"3\" \"4\" \"5\" \"6\""
      ]
     },
     "metadata": {},
     "output_type": "display_data"
    },
    {
     "data": {
      "text/html": [
       "<style>\n",
       ".list-inline {list-style: none; margin:0; padding: 0}\n",
       ".list-inline>li {display: inline-block}\n",
       ".list-inline>li:not(:last-child)::after {content: \"\\00b7\"; padding: 0 .5ex}\n",
       "</style>\n",
       "<ol class=list-inline><li>'DDX11L1'</li><li>'WASH7P'</li><li>'MIR6859-1'</li><li>'MIR1302-2HG'</li><li>'MIR1302-2'</li><li>'FAM138A'</li></ol>\n"
      ],
      "text/latex": [
       "\\begin{enumerate*}\n",
       "\\item 'DDX11L1'\n",
       "\\item 'WASH7P'\n",
       "\\item 'MIR6859-1'\n",
       "\\item 'MIR1302-2HG'\n",
       "\\item 'MIR1302-2'\n",
       "\\item 'FAM138A'\n",
       "\\end{enumerate*}\n"
      ],
      "text/markdown": [
       "1. 'DDX11L1'\n",
       "2. 'WASH7P'\n",
       "3. 'MIR6859-1'\n",
       "4. 'MIR1302-2HG'\n",
       "5. 'MIR1302-2'\n",
       "6. 'FAM138A'\n",
       "\n",
       "\n"
      ],
      "text/plain": [
       "[1] \"DDX11L1\"     \"WASH7P\"      \"MIR6859-1\"   \"MIR1302-2HG\" \"MIR1302-2\"  \n",
       "[6] \"FAM138A\"    "
      ]
     },
     "metadata": {},
     "output_type": "display_data"
    }
   ],
   "source": [
    "head(rownames(countData))\n",
    "rownames(countData) <- countData$Geneid\n",
    "head(rownames(countData))"
   ]
  },
  {
   "cell_type": "markdown",
   "metadata": {
    "scrolled": true
   },
   "source": [
    "If we look at column names, we see a certain number of names columns. The first ones are gene IDs and genetic informations about chromosome, starting and ending position, strand and length. The rest is sample names.\n",
    "  "
   ]
  },
  {
   "cell_type": "code",
   "execution_count": 32,
   "metadata": {},
   "outputs": [
    {
     "data": {
      "text/html": [
       "<style>\n",
       ".list-inline {list-style: none; margin:0; padding: 0}\n",
       ".list-inline>li {display: inline-block}\n",
       ".list-inline>li:not(:last-child)::after {content: \"\\00b7\"; padding: 0 .5ex}\n",
       "</style>\n",
       "<ol class=list-inline><li>'Geneid'</li><li>'Chr'</li><li>'Start'</li><li>'End'</li><li>'Strand'</li><li>'Length'</li><li>'X1_.bam'</li><li>'X2_.bam'</li><li>'X3_.bam'</li><li>'X4_.bam'</li><li>'X5_.bam'</li><li>'X6_.bam'</li><li>'X7_.bam'</li><li>'X8_.bam'</li><li>'X9_.bam'</li></ol>\n"
      ],
      "text/latex": [
       "\\begin{enumerate*}\n",
       "\\item 'Geneid'\n",
       "\\item 'Chr'\n",
       "\\item 'Start'\n",
       "\\item 'End'\n",
       "\\item 'Strand'\n",
       "\\item 'Length'\n",
       "\\item 'X1\\_.bam'\n",
       "\\item 'X2\\_.bam'\n",
       "\\item 'X3\\_.bam'\n",
       "\\item 'X4\\_.bam'\n",
       "\\item 'X5\\_.bam'\n",
       "\\item 'X6\\_.bam'\n",
       "\\item 'X7\\_.bam'\n",
       "\\item 'X8\\_.bam'\n",
       "\\item 'X9\\_.bam'\n",
       "\\end{enumerate*}\n"
      ],
      "text/markdown": [
       "1. 'Geneid'\n",
       "2. 'Chr'\n",
       "3. 'Start'\n",
       "4. 'End'\n",
       "5. 'Strand'\n",
       "6. 'Length'\n",
       "7. 'X1_.bam'\n",
       "8. 'X2_.bam'\n",
       "9. 'X3_.bam'\n",
       "10. 'X4_.bam'\n",
       "11. 'X5_.bam'\n",
       "12. 'X6_.bam'\n",
       "13. 'X7_.bam'\n",
       "14. 'X8_.bam'\n",
       "15. 'X9_.bam'\n",
       "\n",
       "\n"
      ],
      "text/plain": [
       " [1] \"Geneid\"  \"Chr\"     \"Start\"   \"End\"     \"Strand\"  \"Length\"  \"X1_.bam\"\n",
       " [8] \"X2_.bam\" \"X3_.bam\" \"X4_.bam\" \"X5_.bam\" \"X6_.bam\" \"X7_.bam\" \"X8_.bam\"\n",
       "[15] \"X9_.bam\""
      ]
     },
     "metadata": {},
     "output_type": "display_data"
    }
   ],
   "source": [
    "colnames(countData)\n",
    "  "
   ]
  },
  {
   "cell_type": "markdown",
   "metadata": {},
   "source": [
    "The sample names does not make sense for a person who did not do the sequencing of this data, therefore we rename it to the scientific annotation. \n",
    "\n",
    ":::{.callout-tip}\n",
    "\n",
    "The order the colnames(countData) is shown, is the order you have to follow with the renaming for the scientific annotation.\n",
    "\n",
    ":::"
   ]
  },
  {
   "cell_type": "code",
   "execution_count": 33,
   "metadata": {},
   "outputs": [],
   "source": [
    " sampleNames <- c(\"WT_1\", \"WT_2\", \"WT_3\", \"DRUG_1\", \"DRUG_2\", \"DRUG_3\", \"DRUG+SUPPLEMENT_1\", \"DRUG+SUPPLEMENT_2\", \"DRUG+SUPPLEMENT_3\")"
   ]
  },
  {
   "cell_type": "markdown",
   "metadata": {},
   "source": [
    "The countmatrix `countData` contains additional information such as gene name, gene length, exon start and more. These informations are found in columns from  1 to 6. \n",
    "This means, that we have to change the samplenames starting from column number 7. Before we print the column names before and after we do substitution\n",
    "  "
   ]
  },
  {
   "cell_type": "code",
   "execution_count": 34,
   "metadata": {},
   "outputs": [
    {
     "data": {
      "text/html": [
       "<style>\n",
       ".list-inline {list-style: none; margin:0; padding: 0}\n",
       ".list-inline>li {display: inline-block}\n",
       ".list-inline>li:not(:last-child)::after {content: \"\\00b7\"; padding: 0 .5ex}\n",
       "</style>\n",
       "<ol class=list-inline><li>'X1_.bam'</li><li>'X2_.bam'</li><li>'X3_.bam'</li><li>'X4_.bam'</li><li>'X5_.bam'</li><li>'X6_.bam'</li><li>'X7_.bam'</li><li>'X8_.bam'</li><li>'X9_.bam'</li></ol>\n"
      ],
      "text/latex": [
       "\\begin{enumerate*}\n",
       "\\item 'X1\\_.bam'\n",
       "\\item 'X2\\_.bam'\n",
       "\\item 'X3\\_.bam'\n",
       "\\item 'X4\\_.bam'\n",
       "\\item 'X5\\_.bam'\n",
       "\\item 'X6\\_.bam'\n",
       "\\item 'X7\\_.bam'\n",
       "\\item 'X8\\_.bam'\n",
       "\\item 'X9\\_.bam'\n",
       "\\end{enumerate*}\n"
      ],
      "text/markdown": [
       "1. 'X1_.bam'\n",
       "2. 'X2_.bam'\n",
       "3. 'X3_.bam'\n",
       "4. 'X4_.bam'\n",
       "5. 'X5_.bam'\n",
       "6. 'X6_.bam'\n",
       "7. 'X7_.bam'\n",
       "8. 'X8_.bam'\n",
       "9. 'X9_.bam'\n",
       "\n",
       "\n"
      ],
      "text/plain": [
       "[1] \"X1_.bam\" \"X2_.bam\" \"X3_.bam\" \"X4_.bam\" \"X5_.bam\" \"X6_.bam\" \"X7_.bam\"\n",
       "[8] \"X8_.bam\" \"X9_.bam\""
      ]
     },
     "metadata": {},
     "output_type": "display_data"
    },
    {
     "data": {
      "text/html": [
       "<style>\n",
       ".list-inline {list-style: none; margin:0; padding: 0}\n",
       ".list-inline>li {display: inline-block}\n",
       ".list-inline>li:not(:last-child)::after {content: \"\\00b7\"; padding: 0 .5ex}\n",
       "</style>\n",
       "<ol class=list-inline><li>'Geneid'</li><li>'Chr'</li><li>'Start'</li><li>'End'</li><li>'Strand'</li><li>'Length'</li><li>'WT_1'</li><li>'WT_2'</li><li>'WT_3'</li><li>'DRUG_1'</li><li>'DRUG_2'</li><li>'DRUG_3'</li><li>'DRUG+SUPPLEMENT_1'</li><li>'DRUG+SUPPLEMENT_2'</li><li>'DRUG+SUPPLEMENT_3'</li></ol>\n"
      ],
      "text/latex": [
       "\\begin{enumerate*}\n",
       "\\item 'Geneid'\n",
       "\\item 'Chr'\n",
       "\\item 'Start'\n",
       "\\item 'End'\n",
       "\\item 'Strand'\n",
       "\\item 'Length'\n",
       "\\item 'WT\\_1'\n",
       "\\item 'WT\\_2'\n",
       "\\item 'WT\\_3'\n",
       "\\item 'DRUG\\_1'\n",
       "\\item 'DRUG\\_2'\n",
       "\\item 'DRUG\\_3'\n",
       "\\item 'DRUG+SUPPLEMENT\\_1'\n",
       "\\item 'DRUG+SUPPLEMENT\\_2'\n",
       "\\item 'DRUG+SUPPLEMENT\\_3'\n",
       "\\end{enumerate*}\n"
      ],
      "text/markdown": [
       "1. 'Geneid'\n",
       "2. 'Chr'\n",
       "3. 'Start'\n",
       "4. 'End'\n",
       "5. 'Strand'\n",
       "6. 'Length'\n",
       "7. 'WT_1'\n",
       "8. 'WT_2'\n",
       "9. 'WT_3'\n",
       "10. 'DRUG_1'\n",
       "11. 'DRUG_2'\n",
       "12. 'DRUG_3'\n",
       "13. 'DRUG+SUPPLEMENT_1'\n",
       "14. 'DRUG+SUPPLEMENT_2'\n",
       "15. 'DRUG+SUPPLEMENT_3'\n",
       "\n",
       "\n"
      ],
      "text/plain": [
       " [1] \"Geneid\"            \"Chr\"               \"Start\"            \n",
       " [4] \"End\"               \"Strand\"            \"Length\"           \n",
       " [7] \"WT_1\"              \"WT_2\"              \"WT_3\"             \n",
       "[10] \"DRUG_1\"            \"DRUG_2\"            \"DRUG_3\"           \n",
       "[13] \"DRUG+SUPPLEMENT_1\" \"DRUG+SUPPLEMENT_2\" \"DRUG+SUPPLEMENT_3\""
      ]
     },
     "metadata": {},
     "output_type": "display_data"
    }
   ],
   "source": [
    "colnames(countData)[7:length(colnames(countData))]\n",
    "colnames(countData)[7:length(colnames(countData))] <- sampleNames\n",
    "colnames(countData)"
   ]
  },
  {
   "cell_type": "markdown",
   "metadata": {},
   "source": [
    "Any sequencing data is prone to noise. The kind of noise we remove here is arguably something of great discussion as to where and when to keep data. We can see there are a lot of genes by counting the rows of `countData`"
   ]
  },
  {
   "cell_type": "code",
   "execution_count": 35,
   "metadata": {},
   "outputs": [
    {
     "data": {
      "text/html": [
       "49771"
      ],
      "text/latex": [
       "49771"
      ],
      "text/markdown": [
       "49771"
      ],
      "text/plain": [
       "[1] 49771"
      ]
     },
     "metadata": {},
     "output_type": "display_data"
    }
   ],
   "source": [
    "  nrow(countData) # This returns the number of genes in the countmatrix before removing noise."
   ]
  },
  {
   "cell_type": "markdown",
   "metadata": {},
   "source": [
    "We can also plot a simple histogram of how many counts each gene has in a specific sample, for example WT_1. We use the logarithm log(x+1), where x is the expression to have a readable plot. Note how we can see many genes with 0 expression."
   ]
  },
  {
   "cell_type": "code",
   "execution_count": 50,
   "metadata": {},
   "outputs": [
    {
     "data": {
      "image/png": "[encoded data removed]",
      "text/plain": [
       "Plot with title \"WT_1 expression values\""
      ]
     },
     "metadata": {
      "image/png": {
       "height": 420,
       "width": 420
      }
     },
     "output_type": "display_data"
    }
   ],
   "source": [
    "hist(log1p(countData$WT_1), breaks=30, main=\"WT_1 expression values\")"
   ]
  },
  {
   "cell_type": "markdown",
   "metadata": {},
   "source": [
    ":::{.callout-warning}\n",
    "\n",
    "This is however not a very useful plot, because a gene can be overexpressed under other conditions, and underexpressed in the WT_1 sample. We can try to look at the gene expression over all individuals for each gene using again a histogram.\n",
    "\n",
    ":::\n",
    "\n",
    "we still have a number of genes with little or no expression. Those are of very little relevance in any analysis"
   ]
  },
  {
   "cell_type": "code",
   "execution_count": 52,
   "metadata": {},
   "outputs": [
    {
     "data": {
      "image/png": "[encoded data removed]",
      "text/plain": [
       "Plot with title \"Sum of gene expression values on all samples\""
      ]
     },
     "metadata": {
      "image/png": {
       "height": 420,
       "width": 420
      }
     },
     "output_type": "display_data"
    }
   ],
   "source": [
    "sumExpr <- rowSums( countData[,7:15] )\n",
    "\n",
    "hist( log1p(sumExpr), breaks=30, main=\"Sum of gene expression values on all samples\")"
   ]
  },
  {
   "cell_type": "markdown",
   "metadata": {},
   "source": [
    "As an example, we print the fifth gene to see the number of counts. If none of the samples have 5 or more counts of this gene, then we remove the gene."
   ]
  },
  {
   "cell_type": "code",
   "execution_count": 53,
   "metadata": {},
   "outputs": [
    {
     "data": {
      "text/html": [
       "<table class=\"dataframe\">\n",
       "<caption>A data.frame: 1 × 9</caption>\n",
       "<thead>\n",
       "\t<tr><th></th><th scope=col>WT_1</th><th scope=col>WT_2</th><th scope=col>WT_3</th><th scope=col>DRUG_1</th><th scope=col>DRUG_2</th><th scope=col>DRUG_3</th><th scope=col>DRUG+SUPPLEMENT_1</th><th scope=col>DRUG+SUPPLEMENT_2</th><th scope=col>DRUG+SUPPLEMENT_3</th></tr>\n",
       "\t<tr><th></th><th scope=col>&lt;int&gt;</th><th scope=col>&lt;int&gt;</th><th scope=col>&lt;int&gt;</th><th scope=col>&lt;int&gt;</th><th scope=col>&lt;int&gt;</th><th scope=col>&lt;int&gt;</th><th scope=col>&lt;int&gt;</th><th scope=col>&lt;int&gt;</th><th scope=col>&lt;int&gt;</th></tr>\n",
       "</thead>\n",
       "<tbody>\n",
       "\t<tr><th scope=row>MIR1302-2</th><td>0</td><td>0</td><td>0</td><td>0</td><td>0</td><td>0</td><td>0</td><td>0</td><td>0</td></tr>\n",
       "</tbody>\n",
       "</table>\n"
      ],
      "text/latex": [
       "A data.frame: 1 × 9\n",
       "\\begin{tabular}{r|lllllllll}\n",
       "  & WT\\_1 & WT\\_2 & WT\\_3 & DRUG\\_1 & DRUG\\_2 & DRUG\\_3 & DRUG+SUPPLEMENT\\_1 & DRUG+SUPPLEMENT\\_2 & DRUG+SUPPLEMENT\\_3\\\\\n",
       "  & <int> & <int> & <int> & <int> & <int> & <int> & <int> & <int> & <int>\\\\\n",
       "\\hline\n",
       "\tMIR1302-2 & 0 & 0 & 0 & 0 & 0 & 0 & 0 & 0 & 0\\\\\n",
       "\\end{tabular}\n"
      ],
      "text/markdown": [
       "\n",
       "A data.frame: 1 × 9\n",
       "\n",
       "| <!--/--> | WT_1 &lt;int&gt; | WT_2 &lt;int&gt; | WT_3 &lt;int&gt; | DRUG_1 &lt;int&gt; | DRUG_2 &lt;int&gt; | DRUG_3 &lt;int&gt; | DRUG+SUPPLEMENT_1 &lt;int&gt; | DRUG+SUPPLEMENT_2 &lt;int&gt; | DRUG+SUPPLEMENT_3 &lt;int&gt; |\n",
       "|---|---|---|---|---|---|---|---|---|---|\n",
       "| MIR1302-2 | 0 | 0 | 0 | 0 | 0 | 0 | 0 | 0 | 0 |\n",
       "\n"
      ],
      "text/plain": [
       "          WT_1 WT_2 WT_3 DRUG_1 DRUG_2 DRUG_3 DRUG+SUPPLEMENT_1\n",
       "MIR1302-2 0    0    0    0      0      0      0                \n",
       "          DRUG+SUPPLEMENT_2 DRUG+SUPPLEMENT_3\n",
       "MIR1302-2 0                 0                "
      ]
     },
     "metadata": {},
     "output_type": "display_data"
    }
   ],
   "source": [
    "  countData[5, 7:ncol(countData)] "
   ]
  },
  {
   "cell_type": "markdown",
   "metadata": {},
   "source": [
    "Below we use `subset` to apply the filter. We remove data (genes) contains little to no information. It essentially removes a gene from the countmatrix if the gene has less than 5 counts in all the samples."
   ]
  },
  {
   "cell_type": "code",
   "execution_count": 54,
   "metadata": {},
   "outputs": [],
   "source": [
    "countData <- subset(countData, rowSums(countData[, 7:ncol(countData)] > 5) > 0)"
   ]
  },
  {
   "cell_type": "markdown",
   "metadata": {},
   "source": [
    "We removed a lot of genes!"
   ]
  },
  {
   "cell_type": "code",
   "execution_count": 55,
   "metadata": {},
   "outputs": [
    {
     "data": {
      "text/html": [
       "21473"
      ],
      "text/latex": [
       "21473"
      ],
      "text/markdown": [
       "21473"
      ],
      "text/plain": [
       "[1] 21473"
      ]
     },
     "metadata": {},
     "output_type": "display_data"
    }
   ],
   "source": [
    "nrow(countData) #Returning the number of genes after removing noise."
   ]
  },
  {
   "cell_type": "markdown",
   "metadata": {},
   "source": [
    "## Condition matrix"
   ]
  },
  {
   "cell_type": "markdown",
   "metadata": {},
   "source": [
    "The samples are defined in some condition like WT, DRUG, DRUG+SUPPLEMENT or some other condition."
   ]
  },
  {
   "cell_type": "code",
   "execution_count": 19,
   "metadata": {},
   "outputs": [],
   "source": [
    "conditions <- c(rep(\"WT\", 3), rep(\"DRUG\", 3), rep(\"DRUG+SUPPLEMENT\", 3)) \n",
    " "
   ]
  },
  {
   "cell_type": "markdown",
   "metadata": {},
   "source": [
    "We create a dataframe with the condition and sample information"
   ]
  },
  {
   "cell_type": "code",
   "execution_count": 20,
   "metadata": {},
   "outputs": [],
   "source": [
    "coldata <- data.frame(row.names = colnames(countData[0, 7:ncol(countData)]), conditions)"
   ]
  },
  {
   "cell_type": "code",
   "execution_count": 21,
   "metadata": {},
   "outputs": [
    {
     "data": {
      "text/html": [
       "<table class=\"dataframe\">\n",
       "<caption>A data.frame: 9 × 1</caption>\n",
       "<thead>\n",
       "\t<tr><th></th><th scope=col>conditions</th></tr>\n",
       "\t<tr><th></th><th scope=col>&lt;chr&gt;</th></tr>\n",
       "</thead>\n",
       "<tbody>\n",
       "\t<tr><th scope=row>WT_1</th><td>WT             </td></tr>\n",
       "\t<tr><th scope=row>WT_2</th><td>WT             </td></tr>\n",
       "\t<tr><th scope=row>WT_3</th><td>WT             </td></tr>\n",
       "\t<tr><th scope=row>DRUG_1</th><td>DRUG           </td></tr>\n",
       "\t<tr><th scope=row>DRUG_2</th><td>DRUG           </td></tr>\n",
       "\t<tr><th scope=row>DRUG_3</th><td>DRUG           </td></tr>\n",
       "\t<tr><th scope=row>DRUG+SUPPLEMENT_1</th><td>DRUG+SUPPLEMENT</td></tr>\n",
       "\t<tr><th scope=row>DRUG+SUPPLEMENT_2</th><td>DRUG+SUPPLEMENT</td></tr>\n",
       "\t<tr><th scope=row>DRUG+SUPPLEMENT_3</th><td>DRUG+SUPPLEMENT</td></tr>\n",
       "</tbody>\n",
       "</table>\n"
      ],
      "text/latex": [
       "A data.frame: 9 × 1\n",
       "\\begin{tabular}{r|l}\n",
       "  & conditions\\\\\n",
       "  & <chr>\\\\\n",
       "\\hline\n",
       "\tWT\\_1 & WT             \\\\\n",
       "\tWT\\_2 & WT             \\\\\n",
       "\tWT\\_3 & WT             \\\\\n",
       "\tDRUG\\_1 & DRUG           \\\\\n",
       "\tDRUG\\_2 & DRUG           \\\\\n",
       "\tDRUG\\_3 & DRUG           \\\\\n",
       "\tDRUG+SUPPLEMENT\\_1 & DRUG+SUPPLEMENT\\\\\n",
       "\tDRUG+SUPPLEMENT\\_2 & DRUG+SUPPLEMENT\\\\\n",
       "\tDRUG+SUPPLEMENT\\_3 & DRUG+SUPPLEMENT\\\\\n",
       "\\end{tabular}\n"
      ],
      "text/markdown": [
       "\n",
       "A data.frame: 9 × 1\n",
       "\n",
       "| <!--/--> | conditions &lt;chr&gt; |\n",
       "|---|---|\n",
       "| WT_1 | WT              |\n",
       "| WT_2 | WT              |\n",
       "| WT_3 | WT              |\n",
       "| DRUG_1 | DRUG            |\n",
       "| DRUG_2 | DRUG            |\n",
       "| DRUG_3 | DRUG            |\n",
       "| DRUG+SUPPLEMENT_1 | DRUG+SUPPLEMENT |\n",
       "| DRUG+SUPPLEMENT_2 | DRUG+SUPPLEMENT |\n",
       "| DRUG+SUPPLEMENT_3 | DRUG+SUPPLEMENT |\n",
       "\n"
      ],
      "text/plain": [
       "                  conditions     \n",
       "WT_1              WT             \n",
       "WT_2              WT             \n",
       "WT_3              WT             \n",
       "DRUG_1            DRUG           \n",
       "DRUG_2            DRUG           \n",
       "DRUG_3            DRUG           \n",
       "DRUG+SUPPLEMENT_1 DRUG+SUPPLEMENT\n",
       "DRUG+SUPPLEMENT_2 DRUG+SUPPLEMENT\n",
       "DRUG+SUPPLEMENT_3 DRUG+SUPPLEMENT"
      ]
     },
     "metadata": {},
     "output_type": "display_data"
    }
   ],
   "source": [
    "coldata"
   ]
  },
  {
   "cell_type": "markdown",
   "metadata": {},
   "source": [
    "We create a subset of the countData so that we have an object only containing only the counts of the samples."
   ]
  },
  {
   "cell_type": "code",
   "execution_count": 22,
   "metadata": {},
   "outputs": [],
   "source": [
    "countData_subset <- countData[, -c(1:6)]"
   ]
  },
  {
   "cell_type": "code",
   "execution_count": 23,
   "metadata": {},
   "outputs": [
    {
     "data": {
      "text/html": [
       "<table class=\"dataframe\">\n",
       "<caption>A data.frame: 6 × 9</caption>\n",
       "<thead>\n",
       "\t<tr><th></th><th scope=col>WT_1</th><th scope=col>WT_2</th><th scope=col>WT_3</th><th scope=col>DRUG_1</th><th scope=col>DRUG_2</th><th scope=col>DRUG_3</th><th scope=col>DRUG+SUPPLEMENT_1</th><th scope=col>DRUG+SUPPLEMENT_2</th><th scope=col>DRUG+SUPPLEMENT_3</th></tr>\n",
       "\t<tr><th></th><th scope=col>&lt;int&gt;</th><th scope=col>&lt;int&gt;</th><th scope=col>&lt;int&gt;</th><th scope=col>&lt;int&gt;</th><th scope=col>&lt;int&gt;</th><th scope=col>&lt;int&gt;</th><th scope=col>&lt;int&gt;</th><th scope=col>&lt;int&gt;</th><th scope=col>&lt;int&gt;</th></tr>\n",
       "</thead>\n",
       "<tbody>\n",
       "\t<tr><th scope=row>WASH7P</th><td>45</td><td>45</td><td>37</td><td>109</td><td>84</td><td>107</td><td>123</td><td>128</td><td> 72</td></tr>\n",
       "\t<tr><th scope=row>MIR6859-1</th><td> 2</td><td> 1</td><td> 4</td><td>  7</td><td>10</td><td>  5</td><td>  7</td><td>  6</td><td>  9</td></tr>\n",
       "\t<tr><th scope=row>LOC729737</th><td> 6</td><td> 3</td><td> 6</td><td>  9</td><td> 7</td><td>  5</td><td> 85</td><td> 81</td><td> 68</td></tr>\n",
       "\t<tr><th scope=row>LOC100996442</th><td>70</td><td>66</td><td>61</td><td> 82</td><td>58</td><td> 70</td><td>127</td><td>107</td><td>100</td></tr>\n",
       "\t<tr><th scope=row>LOC127239154</th><td> 6</td><td> 7</td><td> 6</td><td> 23</td><td>20</td><td> 19</td><td>  5</td><td>  5</td><td>  4</td></tr>\n",
       "\t<tr><th scope=row>LOC100132287</th><td> 2</td><td> 4</td><td> 1</td><td>  3</td><td> 2</td><td>  2</td><td>  4</td><td>  6</td><td>  4</td></tr>\n",
       "</tbody>\n",
       "</table>\n"
      ],
      "text/latex": [
       "A data.frame: 6 × 9\n",
       "\\begin{tabular}{r|lllllllll}\n",
       "  & WT\\_1 & WT\\_2 & WT\\_3 & DRUG\\_1 & DRUG\\_2 & DRUG\\_3 & DRUG+SUPPLEMENT\\_1 & DRUG+SUPPLEMENT\\_2 & DRUG+SUPPLEMENT\\_3\\\\\n",
       "  & <int> & <int> & <int> & <int> & <int> & <int> & <int> & <int> & <int>\\\\\n",
       "\\hline\n",
       "\tWASH7P & 45 & 45 & 37 & 109 & 84 & 107 & 123 & 128 &  72\\\\\n",
       "\tMIR6859-1 &  2 &  1 &  4 &   7 & 10 &   5 &   7 &   6 &   9\\\\\n",
       "\tLOC729737 &  6 &  3 &  6 &   9 &  7 &   5 &  85 &  81 &  68\\\\\n",
       "\tLOC100996442 & 70 & 66 & 61 &  82 & 58 &  70 & 127 & 107 & 100\\\\\n",
       "\tLOC127239154 &  6 &  7 &  6 &  23 & 20 &  19 &   5 &   5 &   4\\\\\n",
       "\tLOC100132287 &  2 &  4 &  1 &   3 &  2 &   2 &   4 &   6 &   4\\\\\n",
       "\\end{tabular}\n"
      ],
      "text/markdown": [
       "\n",
       "A data.frame: 6 × 9\n",
       "\n",
       "| <!--/--> | WT_1 &lt;int&gt; | WT_2 &lt;int&gt; | WT_3 &lt;int&gt; | DRUG_1 &lt;int&gt; | DRUG_2 &lt;int&gt; | DRUG_3 &lt;int&gt; | DRUG+SUPPLEMENT_1 &lt;int&gt; | DRUG+SUPPLEMENT_2 &lt;int&gt; | DRUG+SUPPLEMENT_3 &lt;int&gt; |\n",
       "|---|---|---|---|---|---|---|---|---|---|\n",
       "| WASH7P | 45 | 45 | 37 | 109 | 84 | 107 | 123 | 128 |  72 |\n",
       "| MIR6859-1 |  2 |  1 |  4 |   7 | 10 |   5 |   7 |   6 |   9 |\n",
       "| LOC729737 |  6 |  3 |  6 |   9 |  7 |   5 |  85 |  81 |  68 |\n",
       "| LOC100996442 | 70 | 66 | 61 |  82 | 58 |  70 | 127 | 107 | 100 |\n",
       "| LOC127239154 |  6 |  7 |  6 |  23 | 20 |  19 |   5 |   5 |   4 |\n",
       "| LOC100132287 |  2 |  4 |  1 |   3 |  2 |   2 |   4 |   6 |   4 |\n",
       "\n"
      ],
      "text/plain": [
       "             WT_1 WT_2 WT_3 DRUG_1 DRUG_2 DRUG_3 DRUG+SUPPLEMENT_1\n",
       "WASH7P       45   45   37   109    84     107    123              \n",
       "MIR6859-1     2    1    4     7    10       5      7              \n",
       "LOC729737     6    3    6     9     7       5     85              \n",
       "LOC100996442 70   66   61    82    58      70    127              \n",
       "LOC127239154  6    7    6    23    20      19      5              \n",
       "LOC100132287  2    4    1     3     2       2      4              \n",
       "             DRUG+SUPPLEMENT_2 DRUG+SUPPLEMENT_3\n",
       "WASH7P       128                72              \n",
       "MIR6859-1      6                 9              \n",
       "LOC729737     81                68              \n",
       "LOC100996442 107               100              \n",
       "LOC127239154   5                 4              \n",
       "LOC100132287   6                 4              "
      ]
     },
     "metadata": {},
     "output_type": "display_data"
    }
   ],
   "source": [
    "head(countData_subset)"
   ]
  },
  {
   "cell_type": "markdown",
   "metadata": {},
   "source": [
    "We check if the sample names are correct. Both of these should return TRUE, otherwise there is some incorrect naming."
   ]
  },
  {
   "cell_type": "code",
   "execution_count": 24,
   "metadata": {},
   "outputs": [
    {
     "data": {
      "text/html": [
       "TRUE"
      ],
      "text/latex": [
       "TRUE"
      ],
      "text/markdown": [
       "TRUE"
      ],
      "text/plain": [
       "[1] TRUE"
      ]
     },
     "metadata": {},
     "output_type": "display_data"
    },
    {
     "data": {
      "text/html": [
       "TRUE"
      ],
      "text/latex": [
       "TRUE"
      ],
      "text/markdown": [
       "TRUE"
      ],
      "text/plain": [
       "[1] TRUE"
      ]
     },
     "metadata": {},
     "output_type": "display_data"
    }
   ],
   "source": [
    "all(colnames(countData_subset) %in% rownames(coldata))\n",
    "all(colnames(countData_subset) == rownames(coldata))"
   ]
  },
  {
   "cell_type": "markdown",
   "metadata": {},
   "source": [
    "## Apllying DeSeq2\n",
    "\n",
    "Time to use the DESeq2 normalization method to analyse your sequencing data. The commands below run DeSeq2 and\n",
    "\n",
    "- builds a DeSeq2 object from the data matrix and condition matrix\n",
    "- applyes DeSeq2\n",
    "- transforms the expressions by variance stabilization"
   ]
  },
  {
   "cell_type": "code",
   "execution_count": 57,
   "metadata": {},
   "outputs": [
    {
     "name": "stderr",
     "output_type": "stream",
     "text": [
      "Warning message in DESeqDataSet(se, design = design, ignoreRank):\n",
      "\"some variables in design formula are characters, converting to factors\"\n",
      "  Note: levels of factors in the design contain characters other than\n",
      "  letters, numbers, '_' and '.'. It is recommended (but not required) to use\n",
      "  only letters, numbers, and delimiters '_' or '.', as these are safe characters\n",
      "  for column names in R. [This is a message, not a warning or an error]\n",
      "\n",
      "estimating size factors\n",
      "\n",
      "  Note: levels of factors in the design contain characters other than\n",
      "  letters, numbers, '_' and '.'. It is recommended (but not required) to use\n",
      "  only letters, numbers, and delimiters '_' or '.', as these are safe characters\n",
      "  for column names in R. [This is a message, not a warning or an error]\n",
      "\n",
      "estimating dispersions\n",
      "\n",
      "gene-wise dispersion estimates\n",
      "\n",
      "mean-dispersion relationship\n",
      "\n",
      "  Note: levels of factors in the design contain characters other than\n",
      "  letters, numbers, '_' and '.'. It is recommended (but not required) to use\n",
      "  only letters, numbers, and delimiters '_' or '.', as these are safe characters\n",
      "  for column names in R. [This is a message, not a warning or an error]\n",
      "\n",
      "final dispersion estimates\n",
      "\n",
      "  Note: levels of factors in the design contain characters other than\n",
      "  letters, numbers, '_' and '.'. It is recommended (but not required) to use\n",
      "  only letters, numbers, and delimiters '_' or '.', as these are safe characters\n",
      "  for column names in R. [This is a message, not a warning or an error]\n",
      "\n",
      "fitting model and testing\n",
      "\n"
     ]
    }
   ],
   "source": [
    "dds <- DESeqDataSetFromMatrix(count = countData_subset, colData = coldata, design = ~conditions)\n",
    "dds <- DESeq(dds)\n",
    "vsdata <- vst(dds, blind=FALSE)"
   ]
  },
  {
   "cell_type": "markdown",
   "metadata": {},
   "source": [
    "To compute a variance stabilizing transformation is roughly similar to putting the data on the log2 scale, while also dealing with the sampling variability of low counts. It uses the design formula to calculate the within-group variability (if blind=FALSE) or the across-all-samples variability (if blind=TRUE). It does not use the design to remove variation in the data. It therefore does not remove variation that can be associated with batch or other covariates (nor does DESeq2 have a way to specify which covariates are nuisance and which are of interest).\n",
    "\n",
    "The resulting object is called `vsdata`, which will be used for further analysis with DESeq2"
   ]
  },
  {
   "cell_type": "code",
   "execution_count": 84,
   "metadata": {},
   "outputs": [
    {
     "data": {
      "text/plain": [
       "class: DESeqTransform \n",
       "dim: 21473 9 \n",
       "metadata(1): version\n",
       "assays(1): ''\n",
       "rownames(21473): WASH7P MIR6859-1 ... TRNT TRNP\n",
       "rowData names(26): baseMean baseVar ... maxCooks dispFit\n",
       "colnames(9): WT_1 WT_2 ... DRUG+SUPPLEMENT_2 DRUG+SUPPLEMENT_3\n",
       "colData names(2): conditions sizeFactor"
      ]
     },
     "metadata": {},
     "output_type": "display_data"
    }
   ],
   "source": [
    "vsdata"
   ]
  },
  {
   "cell_type": "markdown",
   "metadata": {},
   "source": [
    ":::{.callout-note title=\"wrap up\"}\n",
    "\n",
    "You have read and preprocessed a bulk RNA expression matrix and prepared it for further analysis with DESeq2\n",
    "\n",
    ":::"
   ]
  }
 ],
 "metadata": {
  "kernelspec": {
   "display_name": "R",
   "language": "R",
   "name": "ir"
  },
  "language_info": {
   "codemirror_mode": "r",
   "file_extension": ".r",
   "mimetype": "text/x-r-source",
   "name": "R",
   "pygments_lexer": "r",
   "version": "4.1.3"
  }
 },
 "nbformat": 4,
 "nbformat_minor": 4
}
